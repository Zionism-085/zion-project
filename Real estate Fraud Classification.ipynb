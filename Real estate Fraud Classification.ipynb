{
 "cells": [
  {
   "cell_type": "markdown",
   "id": "a1e0adec-0b5a-4250-9a84-b61e9592ad28",
   "metadata": {},
   "source": [
    "# Real estate Fraud Classification"
   ]
  },
  {
   "cell_type": "markdown",
   "id": "a5505c88-da57-4ecc-8f0e-f1543e16c1bc",
   "metadata": {},
   "source": [
    "### Data preprocessing"
   ]
  },
  {
   "cell_type": "code",
   "execution_count": 1,
   "id": "fbe18a6d-f628-4f2c-ad05-0d56e404455c",
   "metadata": {},
   "outputs": [],
   "source": [
    "import pandas as pd\n",
    "import numpy as np\n",
    "import matplotlib.pyplot as plt\n",
    "import seaborn as sns"
   ]
  },
  {
   "cell_type": "code",
   "execution_count": 143,
   "id": "4fa157db-20e9-46e0-9a78-96e7033dcbff",
   "metadata": {},
   "outputs": [
    {
     "data": {
      "text/html": [
       "<div>\n",
       "<style scoped>\n",
       "    .dataframe tbody tr th:only-of-type {\n",
       "        vertical-align: middle;\n",
       "    }\n",
       "\n",
       "    .dataframe tbody tr th {\n",
       "        vertical-align: top;\n",
       "    }\n",
       "\n",
       "    .dataframe thead th {\n",
       "        text-align: right;\n",
       "    }\n",
       "</style>\n",
       "<table border=\"1\" class=\"dataframe\">\n",
       "  <thead>\n",
       "    <tr style=\"text-align: right;\">\n",
       "      <th></th>\n",
       "      <th>ID</th>\n",
       "      <th>매물확인방식</th>\n",
       "      <th>보증금</th>\n",
       "      <th>월세</th>\n",
       "      <th>전용면적</th>\n",
       "      <th>해당층</th>\n",
       "      <th>총층</th>\n",
       "      <th>방향</th>\n",
       "      <th>방수</th>\n",
       "      <th>욕실수</th>\n",
       "      <th>주차가능여부</th>\n",
       "      <th>총주차대수</th>\n",
       "      <th>관리비</th>\n",
       "      <th>중개사무소</th>\n",
       "      <th>제공플랫폼</th>\n",
       "      <th>게재일</th>\n",
       "      <th>허위매물여부</th>\n",
       "    </tr>\n",
       "  </thead>\n",
       "  <tbody>\n",
       "    <tr>\n",
       "      <th>0</th>\n",
       "      <td>TRAIN_0000</td>\n",
       "      <td>현장확인</td>\n",
       "      <td>402500000.0</td>\n",
       "      <td>470000</td>\n",
       "      <td>NaN</td>\n",
       "      <td>NaN</td>\n",
       "      <td>15.0</td>\n",
       "      <td>서향</td>\n",
       "      <td>1.0</td>\n",
       "      <td>1.0</td>\n",
       "      <td>가능</td>\n",
       "      <td>40.0</td>\n",
       "      <td>96</td>\n",
       "      <td>t93Nt6I2I0</td>\n",
       "      <td>B플랫폼</td>\n",
       "      <td>2024-10-09</td>\n",
       "      <td>0</td>\n",
       "    </tr>\n",
       "    <tr>\n",
       "      <th>1</th>\n",
       "      <td>TRAIN_0001</td>\n",
       "      <td>현장확인</td>\n",
       "      <td>170500000.0</td>\n",
       "      <td>200000</td>\n",
       "      <td>NaN</td>\n",
       "      <td>3.0</td>\n",
       "      <td>4.0</td>\n",
       "      <td>남동향</td>\n",
       "      <td>2.0</td>\n",
       "      <td>1.0</td>\n",
       "      <td>불가능</td>\n",
       "      <td>NaN</td>\n",
       "      <td>0</td>\n",
       "      <td>q39iV5J4E6</td>\n",
       "      <td>D플랫폼</td>\n",
       "      <td>2024-12-26</td>\n",
       "      <td>0</td>\n",
       "    </tr>\n",
       "    <tr>\n",
       "      <th>2</th>\n",
       "      <td>TRAIN_0002</td>\n",
       "      <td>전화확인</td>\n",
       "      <td>114000000.0</td>\n",
       "      <td>380000</td>\n",
       "      <td>NaN</td>\n",
       "      <td>2.0</td>\n",
       "      <td>3.0</td>\n",
       "      <td>동향</td>\n",
       "      <td>1.0</td>\n",
       "      <td>1.0</td>\n",
       "      <td>불가능</td>\n",
       "      <td>NaN</td>\n",
       "      <td>0</td>\n",
       "      <td>b03oE4G3F6</td>\n",
       "      <td>A플랫폼</td>\n",
       "      <td>2024-11-28</td>\n",
       "      <td>0</td>\n",
       "    </tr>\n",
       "    <tr>\n",
       "      <th>3</th>\n",
       "      <td>TRAIN_0003</td>\n",
       "      <td>현장확인</td>\n",
       "      <td>163500000.0</td>\n",
       "      <td>30000</td>\n",
       "      <td>36.3</td>\n",
       "      <td>3.0</td>\n",
       "      <td>9.0</td>\n",
       "      <td>남동향</td>\n",
       "      <td>2.0</td>\n",
       "      <td>1.0</td>\n",
       "      <td>가능</td>\n",
       "      <td>13.0</td>\n",
       "      <td>10</td>\n",
       "      <td>G52Iz8V2B9</td>\n",
       "      <td>A플랫폼</td>\n",
       "      <td>2024-11-26</td>\n",
       "      <td>0</td>\n",
       "    </tr>\n",
       "    <tr>\n",
       "      <th>4</th>\n",
       "      <td>TRAIN_0004</td>\n",
       "      <td>현장확인</td>\n",
       "      <td>346000000.0</td>\n",
       "      <td>530000</td>\n",
       "      <td>NaN</td>\n",
       "      <td>3.0</td>\n",
       "      <td>3.0</td>\n",
       "      <td>동향</td>\n",
       "      <td>2.0</td>\n",
       "      <td>1.0</td>\n",
       "      <td>불가능</td>\n",
       "      <td>NaN</td>\n",
       "      <td>0</td>\n",
       "      <td>N45gM0M7R0</td>\n",
       "      <td>B플랫폼</td>\n",
       "      <td>2024-06-25</td>\n",
       "      <td>1</td>\n",
       "    </tr>\n",
       "  </tbody>\n",
       "</table>\n",
       "</div>"
      ],
      "text/plain": [
       "           ID 매물확인방식          보증금      월세  전용면적  해당층    총층   방향   방수  욕실수  \\\n",
       "0  TRAIN_0000   현장확인  402500000.0  470000   NaN  NaN  15.0   서향  1.0  1.0   \n",
       "1  TRAIN_0001   현장확인  170500000.0  200000   NaN  3.0   4.0  남동향  2.0  1.0   \n",
       "2  TRAIN_0002   전화확인  114000000.0  380000   NaN  2.0   3.0   동향  1.0  1.0   \n",
       "3  TRAIN_0003   현장확인  163500000.0   30000  36.3  3.0   9.0  남동향  2.0  1.0   \n",
       "4  TRAIN_0004   현장확인  346000000.0  530000   NaN  3.0   3.0   동향  2.0  1.0   \n",
       "\n",
       "  주차가능여부  총주차대수  관리비       중개사무소 제공플랫폼         게재일  허위매물여부  \n",
       "0     가능   40.0   96  t93Nt6I2I0  B플랫폼  2024-10-09       0  \n",
       "1    불가능    NaN    0  q39iV5J4E6  D플랫폼  2024-12-26       0  \n",
       "2    불가능    NaN    0  b03oE4G3F6  A플랫폼  2024-11-28       0  \n",
       "3     가능   13.0   10  G52Iz8V2B9  A플랫폼  2024-11-26       0  \n",
       "4    불가능    NaN    0  N45gM0M7R0  B플랫폼  2024-06-25       1  "
      ]
     },
     "execution_count": 143,
     "metadata": {},
     "output_type": "execute_result"
    }
   ],
   "source": [
    "housing_df_org = pd.read_csv(\"C:/Users/pbyim/OneDrive/바탕 화면/시온/Data/부동산_허위매물_분류/train.csv\")\n",
    "housing_df = housing_df_org.copy()\n",
    "housing_df.head()"
   ]
  },
  {
   "cell_type": "code",
   "execution_count": 5,
   "id": "6f8d0f02-a5b2-45bd-a7bc-aaacfdaab8ed",
   "metadata": {},
   "outputs": [
    {
     "name": "stdout",
     "output_type": "stream",
     "text": [
      "<class 'pandas.core.frame.DataFrame'>\n",
      "RangeIndex: 2452 entries, 0 to 2451\n",
      "Data columns (total 17 columns):\n",
      " #   Column  Non-Null Count  Dtype  \n",
      "---  ------  --------------  -----  \n",
      " 0   ID      2452 non-null   object \n",
      " 1   매물확인방식  2452 non-null   object \n",
      " 2   보증금     2452 non-null   float64\n",
      " 3   월세      2452 non-null   int64  \n",
      " 4   전용면적    1665 non-null   float64\n",
      " 5   해당층     2223 non-null   float64\n",
      " 6   총층      2436 non-null   float64\n",
      " 7   방향      2452 non-null   object \n",
      " 8   방수      2436 non-null   float64\n",
      " 9   욕실수     2434 non-null   float64\n",
      " 10  주차가능여부  2452 non-null   object \n",
      " 11  총주차대수   1756 non-null   float64\n",
      " 12  관리비     2452 non-null   int64  \n",
      " 13  중개사무소   2452 non-null   object \n",
      " 14  제공플랫폼   2452 non-null   object \n",
      " 15  게재일     2452 non-null   object \n",
      " 16  허위매물여부  2452 non-null   int64  \n",
      "dtypes: float64(7), int64(3), object(7)\n",
      "memory usage: 325.8+ KB\n"
     ]
    }
   ],
   "source": [
    "housing_df.info()"
   ]
  },
  {
   "cell_type": "code",
   "execution_count": 7,
   "id": "ca668b0e-8a74-494c-8103-9d9cac7a0788",
   "metadata": {},
   "outputs": [],
   "source": [
    "housing_df.drop('ID', axis=1, inplace=True)"
   ]
  },
  {
   "cell_type": "markdown",
   "id": "c7954544-de9f-4611-af0e-8e9a47a7dc47",
   "metadata": {},
   "source": [
    "- Handling missing values"
   ]
  },
  {
   "cell_type": "code",
   "execution_count": 9,
   "id": "a00ae30b-f15e-434e-99e7-90783fd1a5b0",
   "metadata": {},
   "outputs": [
    {
     "data": {
      "text/plain": [
       "전용면적     787\n",
       "해당층      229\n",
       "총층        16\n",
       "방수        16\n",
       "욕실수       18\n",
       "총주차대수    696\n",
       "dtype: int64"
      ]
     },
     "execution_count": 9,
     "metadata": {},
     "output_type": "execute_result"
    }
   ],
   "source": [
    "null_series = housing_df.isnull().sum()\n",
    "null_series[null_series.values > 0]"
   ]
  },
  {
   "cell_type": "code",
   "execution_count": 11,
   "id": "8c95bb58-0b29-47bc-bd17-cd831acfa6b0",
   "metadata": {},
   "outputs": [],
   "source": [
    "null_feature_list = list(null_series[null_series.values > 0].index)"
   ]
  },
  {
   "cell_type": "code",
   "execution_count": 13,
   "id": "16b8c5f4-29bb-403e-9f5f-cc8c99b20c47",
   "metadata": {},
   "outputs": [
    {
     "data": {
      "text/html": [
       "<div>\n",
       "<style scoped>\n",
       "    .dataframe tbody tr th:only-of-type {\n",
       "        vertical-align: middle;\n",
       "    }\n",
       "\n",
       "    .dataframe tbody tr th {\n",
       "        vertical-align: top;\n",
       "    }\n",
       "\n",
       "    .dataframe thead th {\n",
       "        text-align: right;\n",
       "    }\n",
       "</style>\n",
       "<table border=\"1\" class=\"dataframe\">\n",
       "  <thead>\n",
       "    <tr style=\"text-align: right;\">\n",
       "      <th></th>\n",
       "      <th>전용면적</th>\n",
       "      <th>해당층</th>\n",
       "      <th>총층</th>\n",
       "      <th>방수</th>\n",
       "      <th>욕실수</th>\n",
       "      <th>총주차대수</th>\n",
       "    </tr>\n",
       "  </thead>\n",
       "  <tbody>\n",
       "    <tr>\n",
       "      <th>count</th>\n",
       "      <td>1665.000000</td>\n",
       "      <td>2223.000000</td>\n",
       "      <td>2436.000000</td>\n",
       "      <td>2436.000000</td>\n",
       "      <td>2434.000000</td>\n",
       "      <td>1756.000000</td>\n",
       "    </tr>\n",
       "    <tr>\n",
       "      <th>mean</th>\n",
       "      <td>27.009628</td>\n",
       "      <td>4.848403</td>\n",
       "      <td>8.052545</td>\n",
       "      <td>1.378079</td>\n",
       "      <td>1.034511</td>\n",
       "      <td>20.332574</td>\n",
       "    </tr>\n",
       "    <tr>\n",
       "      <th>std</th>\n",
       "      <td>7.951757</td>\n",
       "      <td>3.543348</td>\n",
       "      <td>4.920112</td>\n",
       "      <td>0.485007</td>\n",
       "      <td>0.182575</td>\n",
       "      <td>28.939900</td>\n",
       "    </tr>\n",
       "    <tr>\n",
       "      <th>min</th>\n",
       "      <td>17.500000</td>\n",
       "      <td>1.000000</td>\n",
       "      <td>2.000000</td>\n",
       "      <td>1.000000</td>\n",
       "      <td>1.000000</td>\n",
       "      <td>1.000000</td>\n",
       "    </tr>\n",
       "    <tr>\n",
       "      <th>25%</th>\n",
       "      <td>19.800000</td>\n",
       "      <td>2.000000</td>\n",
       "      <td>4.000000</td>\n",
       "      <td>1.000000</td>\n",
       "      <td>1.000000</td>\n",
       "      <td>4.000000</td>\n",
       "    </tr>\n",
       "    <tr>\n",
       "      <th>50%</th>\n",
       "      <td>26.400000</td>\n",
       "      <td>4.000000</td>\n",
       "      <td>6.000000</td>\n",
       "      <td>1.000000</td>\n",
       "      <td>1.000000</td>\n",
       "      <td>10.000000</td>\n",
       "    </tr>\n",
       "    <tr>\n",
       "      <th>75%</th>\n",
       "      <td>32.110000</td>\n",
       "      <td>6.000000</td>\n",
       "      <td>10.000000</td>\n",
       "      <td>2.000000</td>\n",
       "      <td>1.000000</td>\n",
       "      <td>31.000000</td>\n",
       "    </tr>\n",
       "    <tr>\n",
       "      <th>max</th>\n",
       "      <td>49.970000</td>\n",
       "      <td>21.000000</td>\n",
       "      <td>21.000000</td>\n",
       "      <td>2.000000</td>\n",
       "      <td>2.000000</td>\n",
       "      <td>590.000000</td>\n",
       "    </tr>\n",
       "  </tbody>\n",
       "</table>\n",
       "</div>"
      ],
      "text/plain": [
       "              전용면적          해당층           총층           방수          욕실수  \\\n",
       "count  1665.000000  2223.000000  2436.000000  2436.000000  2434.000000   \n",
       "mean     27.009628     4.848403     8.052545     1.378079     1.034511   \n",
       "std       7.951757     3.543348     4.920112     0.485007     0.182575   \n",
       "min      17.500000     1.000000     2.000000     1.000000     1.000000   \n",
       "25%      19.800000     2.000000     4.000000     1.000000     1.000000   \n",
       "50%      26.400000     4.000000     6.000000     1.000000     1.000000   \n",
       "75%      32.110000     6.000000    10.000000     2.000000     1.000000   \n",
       "max      49.970000    21.000000    21.000000     2.000000     2.000000   \n",
       "\n",
       "             총주차대수  \n",
       "count  1756.000000  \n",
       "mean     20.332574  \n",
       "std      28.939900  \n",
       "min       1.000000  \n",
       "25%       4.000000  \n",
       "50%      10.000000  \n",
       "75%      31.000000  \n",
       "max     590.000000  "
      ]
     },
     "execution_count": 13,
     "metadata": {},
     "output_type": "execute_result"
    }
   ],
   "source": [
    "housing_df[null_feature_list].describe()"
   ]
  },
  {
   "cell_type": "code",
   "execution_count": 15,
   "id": "39820b30-7ab9-427e-8fbd-276e4051f9e5",
   "metadata": {},
   "outputs": [],
   "source": [
    "import matplotlib\n",
    "# 1) 폰트 설정\n",
    "matplotlib.rcParams['font.family'] = 'Malgun Gothic'  # 또는 'NanumGothic'\n",
    "matplotlib.rcParams['font.size'] = 10                 # 폰트 크기(원하는 값)\n",
    "matplotlib.rcParams['axes.unicode_minus'] = False     # - 기호 깨짐 방지"
   ]
  },
  {
   "cell_type": "code",
   "execution_count": 17,
   "id": "3755010e-4963-4699-a395-19f7ab3d5974",
   "metadata": {},
   "outputs": [],
   "source": [
    "import warnings\n",
    "warnings.filterwarnings(\"ignore\", category=FutureWarning)"
   ]
  },
  {
   "cell_type": "code",
   "execution_count": 19,
   "id": "1b575465-a739-4e18-9430-c1ca17d924b2",
   "metadata": {},
   "outputs": [
    {
     "data": {
      "image/png": "[encoded data removed]",
      "text/plain": [
       "<Figure size 800x500 with 6 Axes>"
      ]
     },
     "metadata": {},
     "output_type": "display_data"
    }
   ],
   "source": [
    "fig, axes = plt.subplots(figsize=(8,5), nrows=2, ncols=3)\n",
    "\n",
    "for i, feature in enumerate(null_feature_list):\n",
    "    row = i//3 ; col = i%3\n",
    "    sns.histplot(housing_df[feature], kde=True, ax=axes[row][col])\n",
    "    axes[row, col].set_title(f'Distribution of {feature}')\n",
    "plt.tight_layout()\n",
    "plt.show()"
   ]
  },
  {
   "cell_type": "code",
   "execution_count": 21,
   "id": "a3836c42-ee6e-4fe1-98d6-643dd8757588",
   "metadata": {},
   "outputs": [
    {
     "data": {
      "text/plain": [
       "방수\n",
       "1.0    1515\n",
       "2.0     921\n",
       "Name: count, dtype: int64"
      ]
     },
     "execution_count": 21,
     "metadata": {},
     "output_type": "execute_result"
    }
   ],
   "source": [
    "housing_df['방수'].value_counts()"
   ]
  },
  {
   "cell_type": "code",
   "execution_count": 23,
   "id": "f8d0beac-2b00-4784-b86d-c01ed5ec3633",
   "metadata": {},
   "outputs": [
    {
     "data": {
      "text/plain": [
       "욕실수\n",
       "1.0    2350\n",
       "2.0      84\n",
       "Name: count, dtype: int64"
      ]
     },
     "execution_count": 23,
     "metadata": {},
     "output_type": "execute_result"
    }
   ],
   "source": [
    "housing_df['욕실수'].value_counts()"
   ]
  },
  {
   "cell_type": "markdown",
   "id": "0d20cdd5-6882-4218-937c-c4acb7650587",
   "metadata": {},
   "source": [
    "- Fill null values of '전용면적' with mean, '방수' and '욕실수' with 1.0\n",
    "- The '해당층' and '총층' are said to be float types, but in reality, they are integer units, so we round the mean value to fill\n",
    "- '총주차대수' is NAN if the '주차가능여부' is '불가능', so fill it with 0."
   ]
  },
  {
   "cell_type": "code",
   "execution_count": 26,
   "id": "0e4efbf2-4637-4957-bc3e-3b457062288e",
   "metadata": {},
   "outputs": [],
   "source": [
    "housing_df['전용면적'] = housing_df['전용면적'].fillna(housing_df['전용면적'].mean())\n",
    "housing_df[['방수','욕실수']] = housing_df[['방수','욕실수']].fillna(1.0)\n",
    "housing_df[['해당층','총층']] = housing_df[['해당층','총층']].fillna(np.round(housing_df[['해당층','총층']].mean()))\n",
    "housing_df['총주차대수'] = housing_df['총주차대수'].fillna(0)"
   ]
  },
  {
   "cell_type": "code",
   "execution_count": 28,
   "id": "26b7f402-66d2-45ec-8a28-a1246006420d",
   "metadata": {},
   "outputs": [
    {
     "data": {
      "text/plain": [
       "0"
      ]
     },
     "execution_count": 28,
     "metadata": {},
     "output_type": "execute_result"
    }
   ],
   "source": [
    "housing_df.isnull().sum().sum()"
   ]
  },
  {
   "cell_type": "code",
   "execution_count": 32,
   "id": "e4aeca17-644f-4de2-9f8e-cc9a10e6c776",
   "metadata": {},
   "outputs": [
    {
     "data": {
      "text/html": [
       "<div>\n",
       "<style scoped>\n",
       "    .dataframe tbody tr th:only-of-type {\n",
       "        vertical-align: middle;\n",
       "    }\n",
       "\n",
       "    .dataframe tbody tr th {\n",
       "        vertical-align: top;\n",
       "    }\n",
       "\n",
       "    .dataframe thead th {\n",
       "        text-align: right;\n",
       "    }\n",
       "</style>\n",
       "<table border=\"1\" class=\"dataframe\">\n",
       "  <thead>\n",
       "    <tr style=\"text-align: right;\">\n",
       "      <th></th>\n",
       "      <th>매물확인방식</th>\n",
       "      <th>보증금</th>\n",
       "      <th>월세</th>\n",
       "      <th>전용면적</th>\n",
       "      <th>해당층</th>\n",
       "      <th>총층</th>\n",
       "      <th>방향</th>\n",
       "      <th>방수</th>\n",
       "      <th>욕실수</th>\n",
       "      <th>주차가능여부</th>\n",
       "      <th>총주차대수</th>\n",
       "      <th>관리비</th>\n",
       "      <th>중개사무소</th>\n",
       "      <th>제공플랫폼</th>\n",
       "      <th>게재일</th>\n",
       "      <th>허위매물여부</th>\n",
       "    </tr>\n",
       "  </thead>\n",
       "  <tbody>\n",
       "    <tr>\n",
       "      <th>0</th>\n",
       "      <td>현장확인</td>\n",
       "      <td>402500000.0</td>\n",
       "      <td>470000</td>\n",
       "      <td>27.009628</td>\n",
       "      <td>5.0</td>\n",
       "      <td>15.0</td>\n",
       "      <td>서향</td>\n",
       "      <td>1.0</td>\n",
       "      <td>1.0</td>\n",
       "      <td>가능</td>\n",
       "      <td>40.0</td>\n",
       "      <td>96</td>\n",
       "      <td>t93Nt6I2I0</td>\n",
       "      <td>B플랫폼</td>\n",
       "      <td>2024-10-09</td>\n",
       "      <td>0</td>\n",
       "    </tr>\n",
       "    <tr>\n",
       "      <th>1</th>\n",
       "      <td>현장확인</td>\n",
       "      <td>170500000.0</td>\n",
       "      <td>200000</td>\n",
       "      <td>27.009628</td>\n",
       "      <td>3.0</td>\n",
       "      <td>4.0</td>\n",
       "      <td>남동향</td>\n",
       "      <td>2.0</td>\n",
       "      <td>1.0</td>\n",
       "      <td>불가능</td>\n",
       "      <td>0.0</td>\n",
       "      <td>0</td>\n",
       "      <td>q39iV5J4E6</td>\n",
       "      <td>D플랫폼</td>\n",
       "      <td>2024-12-26</td>\n",
       "      <td>0</td>\n",
       "    </tr>\n",
       "    <tr>\n",
       "      <th>2</th>\n",
       "      <td>전화확인</td>\n",
       "      <td>114000000.0</td>\n",
       "      <td>380000</td>\n",
       "      <td>27.009628</td>\n",
       "      <td>2.0</td>\n",
       "      <td>3.0</td>\n",
       "      <td>동향</td>\n",
       "      <td>1.0</td>\n",
       "      <td>1.0</td>\n",
       "      <td>불가능</td>\n",
       "      <td>0.0</td>\n",
       "      <td>0</td>\n",
       "      <td>b03oE4G3F6</td>\n",
       "      <td>A플랫폼</td>\n",
       "      <td>2024-11-28</td>\n",
       "      <td>0</td>\n",
       "    </tr>\n",
       "  </tbody>\n",
       "</table>\n",
       "</div>"
      ],
      "text/plain": [
       "  매물확인방식          보증금      월세       전용면적  해당층    총층   방향   방수  욕실수 주차가능여부  \\\n",
       "0   현장확인  402500000.0  470000  27.009628  5.0  15.0   서향  1.0  1.0     가능   \n",
       "1   현장확인  170500000.0  200000  27.009628  3.0   4.0  남동향  2.0  1.0    불가능   \n",
       "2   전화확인  114000000.0  380000  27.009628  2.0   3.0   동향  1.0  1.0    불가능   \n",
       "\n",
       "   총주차대수  관리비       중개사무소 제공플랫폼         게재일  허위매물여부  \n",
       "0   40.0   96  t93Nt6I2I0  B플랫폼  2024-10-09       0  \n",
       "1    0.0    0  q39iV5J4E6  D플랫폼  2024-12-26       0  \n",
       "2    0.0    0  b03oE4G3F6  A플랫폼  2024-11-28       0  "
      ]
     },
     "execution_count": 32,
     "metadata": {},
     "output_type": "execute_result"
    }
   ],
   "source": [
    "housing_df.head(3)"
   ]
  },
  {
   "cell_type": "code",
   "execution_count": 34,
   "id": "fe4d7ee7-9195-48b9-b68f-ec563796d77d",
   "metadata": {},
   "outputs": [
    {
     "data": {
      "text/plain": [
       "중개사무소\n",
       "G52Iz8V2B9    799\n",
       "r82ax9M3U3     43\n",
       "J52gJ2E4T6     32\n",
       "H90uE4C0W5     30\n",
       "b87Td0W4Y3     27\n",
       "             ... \n",
       "m75Dz8P6I7      1\n",
       "A21Yr4B1U8      1\n",
       "g11ci7P5V1      1\n",
       "D26uW0Q2N3      1\n",
       "L27JO3N6S2      1\n",
       "Name: count, Length: 279, dtype: int64"
      ]
     },
     "execution_count": 34,
     "metadata": {},
     "output_type": "execute_result"
    }
   ],
   "source": [
    "housing_df['중개사무소'].value_counts()"
   ]
  },
  {
   "cell_type": "markdown",
   "id": "338119d8-7ded-4cbc-b1b5-a65f7ce133b7",
   "metadata": {},
   "source": [
    "- Even though the '중개사무소' feature is mostly 'G52Iz8V2B9', it is uncertain if it has impact on target\n",
    "- But it has too many category of 279, thus perform frequency encoding\n",
    "- Later I will try model **with 중개사무소_freq** and the one without it"
   ]
  },
  {
   "cell_type": "code",
   "execution_count": 37,
   "id": "6328d9a1-4365-46db-8bd4-ab771a8d45a3",
   "metadata": {},
   "outputs": [],
   "source": [
    "freq_map = housing_df['중개사무소'].value_counts()\n",
    "housing_df['중개사무소_freq'] = housing_df['중개사무소'].map(freq_map)"
   ]
  },
  {
   "cell_type": "markdown",
   "id": "9d5de674-945c-4f02-b02f-1317b69d6159",
   "metadata": {},
   "source": [
    "- Extract year. month, date from '게재일'"
   ]
  },
  {
   "cell_type": "code",
   "execution_count": 40,
   "id": "ce0a43fb-d89f-45ac-9a68-119e33f69b61",
   "metadata": {},
   "outputs": [
    {
     "data": {
      "text/html": [
       "<div>\n",
       "<style scoped>\n",
       "    .dataframe tbody tr th:only-of-type {\n",
       "        vertical-align: middle;\n",
       "    }\n",
       "\n",
       "    .dataframe tbody tr th {\n",
       "        vertical-align: top;\n",
       "    }\n",
       "\n",
       "    .dataframe thead th {\n",
       "        text-align: right;\n",
       "    }\n",
       "</style>\n",
       "<table border=\"1\" class=\"dataframe\">\n",
       "  <thead>\n",
       "    <tr style=\"text-align: right;\">\n",
       "      <th></th>\n",
       "      <th>매물확인방식</th>\n",
       "      <th>보증금</th>\n",
       "      <th>월세</th>\n",
       "      <th>전용면적</th>\n",
       "      <th>해당층</th>\n",
       "      <th>총층</th>\n",
       "      <th>방향</th>\n",
       "      <th>방수</th>\n",
       "      <th>욕실수</th>\n",
       "      <th>주차가능여부</th>\n",
       "      <th>총주차대수</th>\n",
       "      <th>관리비</th>\n",
       "      <th>제공플랫폼</th>\n",
       "      <th>허위매물여부</th>\n",
       "      <th>중개사무소_freq</th>\n",
       "      <th>연</th>\n",
       "      <th>월</th>\n",
       "      <th>일</th>\n",
       "    </tr>\n",
       "  </thead>\n",
       "  <tbody>\n",
       "    <tr>\n",
       "      <th>0</th>\n",
       "      <td>현장확인</td>\n",
       "      <td>402500000.0</td>\n",
       "      <td>470000</td>\n",
       "      <td>27.009628</td>\n",
       "      <td>5.0</td>\n",
       "      <td>15.0</td>\n",
       "      <td>서향</td>\n",
       "      <td>1.0</td>\n",
       "      <td>1.0</td>\n",
       "      <td>가능</td>\n",
       "      <td>40.0</td>\n",
       "      <td>96</td>\n",
       "      <td>B플랫폼</td>\n",
       "      <td>0</td>\n",
       "      <td>6</td>\n",
       "      <td>2024</td>\n",
       "      <td>10</td>\n",
       "      <td>9</td>\n",
       "    </tr>\n",
       "    <tr>\n",
       "      <th>1</th>\n",
       "      <td>현장확인</td>\n",
       "      <td>170500000.0</td>\n",
       "      <td>200000</td>\n",
       "      <td>27.009628</td>\n",
       "      <td>3.0</td>\n",
       "      <td>4.0</td>\n",
       "      <td>남동향</td>\n",
       "      <td>2.0</td>\n",
       "      <td>1.0</td>\n",
       "      <td>불가능</td>\n",
       "      <td>0.0</td>\n",
       "      <td>0</td>\n",
       "      <td>D플랫폼</td>\n",
       "      <td>0</td>\n",
       "      <td>2</td>\n",
       "      <td>2024</td>\n",
       "      <td>12</td>\n",
       "      <td>26</td>\n",
       "    </tr>\n",
       "    <tr>\n",
       "      <th>2</th>\n",
       "      <td>전화확인</td>\n",
       "      <td>114000000.0</td>\n",
       "      <td>380000</td>\n",
       "      <td>27.009628</td>\n",
       "      <td>2.0</td>\n",
       "      <td>3.0</td>\n",
       "      <td>동향</td>\n",
       "      <td>1.0</td>\n",
       "      <td>1.0</td>\n",
       "      <td>불가능</td>\n",
       "      <td>0.0</td>\n",
       "      <td>0</td>\n",
       "      <td>A플랫폼</td>\n",
       "      <td>0</td>\n",
       "      <td>19</td>\n",
       "      <td>2024</td>\n",
       "      <td>11</td>\n",
       "      <td>28</td>\n",
       "    </tr>\n",
       "  </tbody>\n",
       "</table>\n",
       "</div>"
      ],
      "text/plain": [
       "  매물확인방식          보증금      월세       전용면적  해당층    총층   방향   방수  욕실수 주차가능여부  \\\n",
       "0   현장확인  402500000.0  470000  27.009628  5.0  15.0   서향  1.0  1.0     가능   \n",
       "1   현장확인  170500000.0  200000  27.009628  3.0   4.0  남동향  2.0  1.0    불가능   \n",
       "2   전화확인  114000000.0  380000  27.009628  2.0   3.0   동향  1.0  1.0    불가능   \n",
       "\n",
       "   총주차대수  관리비 제공플랫폼  허위매물여부  중개사무소_freq     연   월   일  \n",
       "0   40.0   96  B플랫폼       0           6  2024  10   9  \n",
       "1    0.0    0  D플랫폼       0           2  2024  12  26  \n",
       "2    0.0    0  A플랫폼       0          19  2024  11  28  "
      ]
     },
     "execution_count": 40,
     "metadata": {},
     "output_type": "execute_result"
    }
   ],
   "source": [
    "housing_df['게재일'] = housing_df['게재일'].apply(pd.to_datetime)\n",
    "\n",
    "housing_df['연'] = housing_df['게재일'].apply(lambda x: x.year)\n",
    "housing_df['월'] = housing_df['게재일'].apply(lambda x: x.month)\n",
    "housing_df['일'] = housing_df['게재일'].apply(lambda x: x.day)\n",
    "\n",
    "housing_df = housing_df.drop(['중개사무소','게재일'], axis=1)\n",
    "housing_df.head(3)"
   ]
  },
  {
   "cell_type": "markdown",
   "id": "d069f228-2cbf-4646-b96a-387be1540377",
   "metadata": {},
   "source": [
    "- Perform one-hot encoding to other object type features"
   ]
  },
  {
   "cell_type": "code",
   "execution_count": 43,
   "id": "26ff6960-0679-4f1e-bf46-c850591e3bd6",
   "metadata": {},
   "outputs": [
    {
     "name": "stdout",
     "output_type": "stream",
     "text": [
      "Before encoding: (2452, 18)\n",
      "After encoding: (2452, 36)\n"
     ]
    }
   ],
   "source": [
    "print(f'Before encoding: {housing_df.shape}')\n",
    "housing_df_encoded = pd.get_dummies(housing_df, drop_first=True)\n",
    "print(f'After encoding: {housing_df_encoded.shape}')"
   ]
  },
  {
   "cell_type": "markdown",
   "id": "8e4bfb6d-6d59-4b87-85ed-a8d0354d309b",
   "metadata": {},
   "source": [
    "- Define a function to reuse data preprocessing"
   ]
  },
  {
   "cell_type": "code",
   "execution_count": 46,
   "id": "1912ad9b-13f8-4848-81bf-05c7b2660e8d",
   "metadata": {},
   "outputs": [],
   "source": [
    "def process_housing_df(housing_df):\n",
    "    housing_df['전용면적'] = housing_df['전용면적'].fillna(housing_df['전용면적'].mean())\n",
    "    housing_df[['방수','욕실수']] = housing_df[['방수','욕실수']].fillna(1.0)\n",
    "    housing_df[['해당층','총층']] = housing_df[['해당층','총층']].fillna(np.round(housing_df[['해당층','총층']].mean()))\n",
    "    housing_df['총주차대수'] = housing_df['총주차대수'].fillna(0)\n",
    "\n",
    "    freq_map = housing_df['중개사무소'].value_counts()\n",
    "    housing_df['중개사무소_freq'] = housing_df['중개사무소'].map(freq_map)\n",
    "\n",
    "    housing_df['게재일'] = housing_df['게재일'].apply(pd.to_datetime)\n",
    "\n",
    "    housing_df['연'] = housing_df['게재일'].apply(lambda x: x.year)\n",
    "    housing_df['월'] = housing_df['게재일'].apply(lambda x: x.month)\n",
    "    housing_df['일'] = housing_df['게재일'].apply(lambda x: x.day)\n",
    "\n",
    "    housing_df = housing_df.drop(['ID','중개사무소','게재일'], axis=1)\n",
    "    return housing_df"
   ]
  },
  {
   "cell_type": "markdown",
   "id": "386d8c7b-2450-454b-adb8-27b1c06fc694",
   "metadata": {},
   "source": [
    "### Model training/learning/evaluation"
   ]
  },
  {
   "cell_type": "code",
   "execution_count": 49,
   "id": "2d53e334-ba42-4abe-9533-18be880921f7",
   "metadata": {},
   "outputs": [],
   "source": [
    "from sklearn.model_selection import train_test_split\n",
    "from sklearn.metrics import accuracy_score, precision_score, recall_score, f1_score, confusion_matrix, roc_auc_score\n",
    "from sklearn.linear_model import LogisticRegression\n",
    "from sklearn.ensemble import RandomForestClassifier\n",
    "from lightgbm import LGBMClassifier"
   ]
  },
  {
   "cell_type": "code",
   "execution_count": 59,
   "id": "85f5ba2e-19a5-4427-9b17-8cbf6faab402",
   "metadata": {},
   "outputs": [],
   "source": [
    "def get_scores(model, X_train, X_test, y_train, y_test):\n",
    "    model.fit(X_train, y_train)\n",
    "    y_pred = model.predict(X_test)\n",
    "    pred_prob = model.predict_proba(X_test)[:,1]\n",
    "    \n",
    "    confusion_mat = confusion_matrix(y_test, y_pred)\n",
    "    acc = accuracy_score(y_test, y_pred)\n",
    "    precision = precision_score(y_test, y_pred)\n",
    "    recall = recall_score(y_test, y_pred)\n",
    "    f1 = f1_score(y_test, y_pred)\n",
    "    auc = roc_auc_score(y_test, pred_prob)\n",
    "\n",
    "    print(f'Confusion matrix:\\n{confusion_mat}')\n",
    "    print(f'Accuracy:{acc} Precision:{precision} Recall:{recall} F1-Score:{f1} AUC-Score:{auc}\\n')  \n",
    "\n",
    "def get_model_scores(models, X_train, X_test, y_train, y_test):\n",
    "    for model in models:\n",
    "        print(model.__class__.__name__)\n",
    "        get_scores(model, X_train, X_test, y_train, y_test)"
   ]
  },
  {
   "cell_type": "code",
   "execution_count": 63,
   "id": "e81e7a78-3cff-4774-bff8-bc3bbd7595b2",
   "metadata": {
    "scrolled": true
   },
   "outputs": [
    {
     "name": "stdout",
     "output_type": "stream",
     "text": [
      "LogisticRegression\n",
      "Confusion matrix:\n",
      "[[424   0]\n",
      " [ 67   0]]\n",
      "Accuracy:0.8635437881873728 Precision:0.0 Recall:0.0 F1-Score:0.0 AUC-Score:0.6981836102506336\n",
      "\n",
      "RandomForestClassifier\n"
     ]
    },
    {
     "name": "stderr",
     "output_type": "stream",
     "text": [
      "C:\\Users\\pbyim\\anaconda3\\Lib\\site-packages\\sklearn\\metrics\\_classification.py:1531: UndefinedMetricWarning: Precision is ill-defined and being set to 0.0 due to no predicted samples. Use `zero_division` parameter to control this behavior.\n",
      "  _warn_prf(average, modifier, f\"{metric.capitalize()} is\", len(result))\n"
     ]
    },
    {
     "name": "stdout",
     "output_type": "stream",
     "text": [
      "Confusion matrix:\n",
      "[[419   5]\n",
      " [ 29  38]]\n",
      "Accuracy:0.9307535641547862 Precision:0.8837209302325582 Recall:0.5671641791044776 F1-Score:0.6909090909090909 AUC-Score:0.9696212334553648\n",
      "\n",
      "LGBMClassifier\n",
      "Confusion matrix:\n",
      "[[417   7]\n",
      " [ 16  51]]\n",
      "Accuracy:0.9531568228105907 Precision:0.8793103448275862 Recall:0.7611940298507462 F1-Score:0.816 AUC-Score:0.980005632216277\n",
      "\n",
      "Model without 중개사무소_freq\n",
      "LogisticRegression\n",
      "Confusion matrix:\n",
      "[[424   0]\n",
      " [ 67   0]]\n",
      "Accuracy:0.8635437881873728 Precision:0.0 Recall:0.0 F1-Score:0.0 AUC-Score:0.5304491692480992\n",
      "\n",
      "RandomForestClassifier\n"
     ]
    },
    {
     "name": "stderr",
     "output_type": "stream",
     "text": [
      "C:\\Users\\pbyim\\anaconda3\\Lib\\site-packages\\sklearn\\metrics\\_classification.py:1531: UndefinedMetricWarning: Precision is ill-defined and being set to 0.0 due to no predicted samples. Use `zero_division` parameter to control this behavior.\n",
      "  _warn_prf(average, modifier, f\"{metric.capitalize()} is\", len(result))\n"
     ]
    },
    {
     "name": "stdout",
     "output_type": "stream",
     "text": [
      "Confusion matrix:\n",
      "[[421   3]\n",
      " [ 35  32]]\n",
      "Accuracy:0.9226069246435845 Precision:0.9142857142857143 Recall:0.47761194029850745 F1-Score:0.6274509803921569 AUC-Score:0.9379400168966489\n",
      "\n",
      "LGBMClassifier\n",
      "Confusion matrix:\n",
      "[[418   6]\n",
      " [ 21  46]]\n",
      "Accuracy:0.945010183299389 Precision:0.8846153846153846 Recall:0.6865671641791045 F1-Score:0.773109243697479 AUC-Score:0.9584272036046185\n",
      "\n"
     ]
    }
   ],
   "source": [
    "X = housing_df_encoded.drop('허위매물여부', axis=1)\n",
    "X_2 = housing_df_encoded.drop(['중개사무소_freq','허위매물여부'], axis=1)\n",
    "y = housing_df_encoded['허위매물여부']\n",
    "X_train, X_test, y_train, y_test = train_test_split(X, y, test_size=0.2, random_state=123)\n",
    "X_train_2, X_test_2, y_train_2, y_test_2 = train_test_split(X_2, y, test_size=0.2, random_state=123)\n",
    "\n",
    "lr_clf = LogisticRegression(max_iter=1000)\n",
    "rf_clf = RandomForestClassifier(random_state=123)\n",
    "lgbm_clf = LGBMClassifier(n_estimators=1000, verbosity=-1)\n",
    "\n",
    "models = [lr_clf, rf_clf, lgbm_clf]\n",
    "get_model_scores(models, X_train, X_test, y_train, y_test)\n",
    "print('Model without 중개사무소_freq')\n",
    "get_model_scores(models, X_train_2, X_test_2, y_train_2, y_test_2)"
   ]
  },
  {
   "cell_type": "markdown",
   "id": "e9a119d3-7ca0-4af0-bd74-b5c9d61739ff",
   "metadata": {},
   "source": [
    "- Models without 중개사무소_freq performs poorer, so I will keep the feature\n",
    "- We will focus more on to increase Recall rate\n",
    "- Currently scores above seems unnormal"
   ]
  },
  {
   "cell_type": "code",
   "execution_count": 66,
   "id": "b1eb67b5-6d19-428a-99a6-a525f434006d",
   "metadata": {},
   "outputs": [
    {
     "data": {
      "text/plain": [
       "허위매물여부\n",
       "0    2154\n",
       "1     298\n",
       "Name: count, dtype: int64"
      ]
     },
     "execution_count": 66,
     "metadata": {},
     "output_type": "execute_result"
    }
   ],
   "source": [
    "housing_df_encoded['허위매물여부'].value_counts()"
   ]
  },
  {
   "cell_type": "markdown",
   "id": "b8c6dfaa-766e-462e-86db-03806410067f",
   "metadata": {},
   "source": [
    "- About 88% of target is 0, thus use stratification to split the data and try again"
   ]
  },
  {
   "cell_type": "code",
   "execution_count": 69,
   "id": "40a1e953-d5e4-4c7e-b114-b7c5abd454bf",
   "metadata": {},
   "outputs": [
    {
     "name": "stdout",
     "output_type": "stream",
     "text": [
      "LogisticRegression\n",
      "Confusion matrix:\n",
      "[[431   0]\n",
      " [ 60   0]]\n",
      "Accuracy:0.8778004073319755 Precision:0.0 Recall:0.0 F1-Score:0.0 AUC-Score:0.6720804331013148\n",
      "\n",
      "RandomForestClassifier\n"
     ]
    },
    {
     "name": "stderr",
     "output_type": "stream",
     "text": [
      "C:\\Users\\pbyim\\anaconda3\\Lib\\site-packages\\sklearn\\metrics\\_classification.py:1531: UndefinedMetricWarning: Precision is ill-defined and being set to 0.0 due to no predicted samples. Use `zero_division` parameter to control this behavior.\n",
      "  _warn_prf(average, modifier, f\"{metric.capitalize()} is\", len(result))\n"
     ]
    },
    {
     "name": "stdout",
     "output_type": "stream",
     "text": [
      "Confusion matrix:\n",
      "[[426   5]\n",
      " [ 26  34]]\n",
      "Accuracy:0.9368635437881874 Precision:0.8717948717948718 Recall:0.5666666666666667 F1-Score:0.6868686868686869 AUC-Score:0.9716550657385924\n",
      "\n",
      "LGBMClassifier\n",
      "Confusion matrix:\n",
      "[[422   9]\n",
      " [  9  51]]\n",
      "Accuracy:0.9633401221995926 Precision:0.85 Recall:0.85 F1-Score:0.85 AUC-Score:0.9811678267594741\n",
      "\n"
     ]
    }
   ],
   "source": [
    "X_train, X_test, y_train, y_test = train_test_split(X, y, test_size=0.2, stratify=y, random_state=123)\n",
    "\n",
    "lr_clf = LogisticRegression(max_iter=1000)\n",
    "rf_clf = RandomForestClassifier(random_state=123)\n",
    "lgbm_clf = LGBMClassifier(n_estimators=1000, verbosity=-1)\n",
    "\n",
    "models = [lr_clf, rf_clf, lgbm_clf]\n",
    "get_model_scores(models, X_train, X_test, y_train, y_test)"
   ]
  },
  {
   "cell_type": "markdown",
   "id": "bb267d52-3f28-43b3-b592-032ebe9b1252",
   "metadata": {},
   "source": [
    "- The model performances got better but logistic regression and randomforest model are still not working well\n",
    "- We checked '총주차대수' column was highly skewed, try log-scale the column"
   ]
  },
  {
   "cell_type": "code",
   "execution_count": 164,
   "id": "c50d90fc-147a-42ec-a450-ca6e9f5d4b43",
   "metadata": {},
   "outputs": [
    {
     "data": {
      "image/png": "[encoded data removed]",
      "text/plain": [
       "<Figure size 800x300 with 2 Axes>"
      ]
     },
     "metadata": {},
     "output_type": "display_data"
    }
   ],
   "source": [
    "fig, axes = plt.subplots(figsize=(8,3), ncols=2)\n",
    "sns.histplot(housing_df['총주차대수'], kde=True, ax=axes[0])\n",
    "sns.histplot(np.log1p(housing_df['총주차대수']), kde=True, ax=axes[1])\n",
    "plt.show()"
   ]
  },
  {
   "cell_type": "markdown",
   "id": "3eeb1658-5176-422b-9616-519679dc20f7",
   "metadata": {},
   "source": [
    "- It is still not bell-shape but obviously got much more less skewed, thus adapt it to our data and try again"
   ]
  },
  {
   "cell_type": "code",
   "execution_count": 75,
   "id": "496c1b96-bc96-4199-aa81-9e4fe35f5da1",
   "metadata": {},
   "outputs": [
    {
     "name": "stdout",
     "output_type": "stream",
     "text": [
      "LogisticRegression\n",
      "Confusion matrix:\n",
      "[[431   0]\n",
      " [ 60   0]]\n",
      "Accuracy:0.8778004073319755 Precision:0.0 Recall:0.0 F1-Score:0.0 AUC-Score:0.6710363495746327\n",
      "\n",
      "RandomForestClassifier\n"
     ]
    },
    {
     "name": "stderr",
     "output_type": "stream",
     "text": [
      "C:\\Users\\pbyim\\anaconda3\\Lib\\site-packages\\sklearn\\metrics\\_classification.py:1531: UndefinedMetricWarning: Precision is ill-defined and being set to 0.0 due to no predicted samples. Use `zero_division` parameter to control this behavior.\n",
      "  _warn_prf(average, modifier, f\"{metric.capitalize()} is\", len(result))\n"
     ]
    },
    {
     "name": "stdout",
     "output_type": "stream",
     "text": [
      "Confusion matrix:\n",
      "[[426   5]\n",
      " [ 25  35]]\n",
      "Accuracy:0.9389002036659878 Precision:0.875 Recall:0.5833333333333334 F1-Score:0.7 AUC-Score:0.9718870843000773\n",
      "\n",
      "LGBMClassifier\n",
      "Confusion matrix:\n",
      "[[422   9]\n",
      " [  9  51]]\n",
      "Accuracy:0.9633401221995926 Precision:0.85 Recall:0.85 F1-Score:0.85 AUC-Score:0.9811678267594741\n",
      "\n"
     ]
    }
   ],
   "source": [
    "housing_df_encoded['총주차대수'] = np.log1p(housing_df_encoded['총주차대수'])\n",
    "X = housing_df_encoded.drop('허위매물여부', axis=1)\n",
    "y = housing_df_encoded['허위매물여부']\n",
    "X_train, X_test, y_train, y_test = train_test_split(X, y, test_size=0.2, stratify=y, random_state=123)\n",
    "\n",
    "lr_clf = LogisticRegression(max_iter=1000)\n",
    "rf_clf = RandomForestClassifier(random_state=123)\n",
    "lgbm_clf = LGBMClassifier(n_estimators=1000, verbosity=-1)\n",
    "\n",
    "models = [lr_clf, rf_clf, lgbm_clf]\n",
    "get_model_scores(models, X_train, X_test, y_train, y_test)"
   ]
  },
  {
   "cell_type": "markdown",
   "id": "fd353d63-d0ce-4501-85a9-889d82339084",
   "metadata": {},
   "source": [
    "- We see a very slight improvement but no significant impact\n",
    "- Since we aim to increase recall rate, we adapt SMOTE and retry"
   ]
  },
  {
   "cell_type": "code",
   "execution_count": 78,
   "id": "c279209a-9480-4530-b2ea-052e1e8c332b",
   "metadata": {},
   "outputs": [],
   "source": [
    "from imblearn.over_sampling import SMOTE"
   ]
  },
  {
   "cell_type": "code",
   "execution_count": 80,
   "id": "27b6d8c9-c82b-47d5-889b-2d0214d74e33",
   "metadata": {},
   "outputs": [
    {
     "name": "stdout",
     "output_type": "stream",
     "text": [
      "Shape of train dataset before SMOTE ((1961, 35), (1961,))\n",
      "Shape of test dataset after SMOTE ((3446, 35), (3446,))\n",
      "Distribution of label before SMOTE: 허위매물여부\n",
      "0    1723\n",
      "1     238\n",
      "Name: count, dtype: int64\n",
      "Distribution of label after SMOTE: 허위매물여부\n",
      "0    1723\n",
      "1    1723\n",
      "Name: count, dtype: int64\n"
     ]
    }
   ],
   "source": [
    "smote = SMOTE(random_state=123)\n",
    "\n",
    "X_train_over, y_train_over = smote.fit_resample(X_train, y_train)\n",
    "print(f'Shape of train dataset before SMOTE {X_train.shape, y_train.shape}')\n",
    "print(f'Shape of test dataset after SMOTE {X_train_over.shape, y_train_over.shape}')\n",
    "print(f'Distribution of label before SMOTE: {y_train.value_counts()}')\n",
    "print(f'Distribution of label after SMOTE: {y_train_over.value_counts()}')"
   ]
  },
  {
   "cell_type": "code",
   "execution_count": 82,
   "id": "ba8399be-558e-46cf-9437-89513e7dfc21",
   "metadata": {},
   "outputs": [
    {
     "name": "stdout",
     "output_type": "stream",
     "text": [
      "LogisticRegression\n",
      "Confusion matrix:\n",
      "[[167 264]\n",
      " [  0  60]]\n",
      "Accuracy:0.4623217922606925 Precision:0.18518518518518517 Recall:1.0 F1-Score:0.3125 AUC-Score:0.6739365815931941\n",
      "\n",
      "RandomForestClassifier\n",
      "Confusion matrix:\n",
      "[[411  20]\n",
      " [ 16  44]]\n",
      "Accuracy:0.9266802443991853 Precision:0.6875 Recall:0.7333333333333333 F1-Score:0.7096774193548387 AUC-Score:0.9619102861562258\n",
      "\n",
      "LGBMClassifier\n",
      "Confusion matrix:\n",
      "[[418  13]\n",
      " [  7  53]]\n",
      "Accuracy:0.9592668024439919 Precision:0.803030303030303 Recall:0.8833333333333333 F1-Score:0.8412698412698413 AUC-Score:0.9720417633410673\n",
      "\n"
     ]
    }
   ],
   "source": [
    "lr_clf = LogisticRegression(max_iter=1000)\n",
    "rf_clf = RandomForestClassifier(random_state=123)\n",
    "lgbm_clf = LGBMClassifier(n_estimators=1000, verbosity=-1)\n",
    "\n",
    "models = [lr_clf, rf_clf, lgbm_clf]\n",
    "get_model_scores(models, X_train_over, X_test, y_train_over, y_test)"
   ]
  },
  {
   "cell_type": "markdown",
   "id": "d0b78ad0-100d-46fd-9560-5d322e58f180",
   "metadata": {},
   "source": [
    "- Recall rate increased, eliminate outliers and retry\n",
    "- Since it is hard to remove outliers from all features, I will use lgbm model to visualize feature importance first"
   ]
  },
  {
   "cell_type": "code",
   "execution_count": 85,
   "id": "5ff865b1-7ae1-4cde-bd9d-720f0070025e",
   "metadata": {},
   "outputs": [
    {
     "data": {
      "image/png": "[encoded data removed]",
      "text/plain": [
       "<Figure size 640x480 with 1 Axes>"
      ]
     },
     "metadata": {},
     "output_type": "display_data"
    }
   ],
   "source": [
    "feature_series = pd.Series(lgbm_clf.feature_importances_, index=X.columns)\n",
    "feature_series = feature_series.sort_values(ascending=False)[:10]\n",
    "\n",
    "sns.barplot(x=feature_series, y=feature_series.index)\n",
    "plt.show()"
   ]
  },
  {
   "cell_type": "code",
   "execution_count": 87,
   "id": "d8c662dd-d95c-411a-bcb3-1531035f4bd4",
   "metadata": {},
   "outputs": [],
   "source": [
    "def get_outlier(df, column, weight=1.5):\n",
    "    fraud = df[df['허위매물여부']==1][column]\n",
    "    quantile25 = np.percentile(fraud.values, 25)\n",
    "    quantile75 = np.percentile(fraud.values, 75)\n",
    "\n",
    "    iqr = weight * (quantile75-quantile25)\n",
    "    lower_bound = quantile25-iqr\n",
    "    upper_bound = quantile75+iqr\n",
    "\n",
    "    outlier_idx = fraud[(fraud<lower_bound) | (fraud>upper_bound)].index\n",
    "    return outlier_idx"
   ]
  },
  {
   "cell_type": "code",
   "execution_count": 89,
   "id": "c8baa96a-10c9-4efa-affe-94567080ff36",
   "metadata": {},
   "outputs": [
    {
     "name": "stdout",
     "output_type": "stream",
     "text": [
      "월세 vs 허위매물 outlier: Index([], dtype='int64')\n",
      "보증금 vs 허위매물 outlier: Index([], dtype='int64')\n"
     ]
    }
   ],
   "source": [
    "outlier_idx_1 = get_outlier(housing_df, '월세')\n",
    "outlier_idx_2 = get_outlier(housing_df, '보증금')\n",
    "print(f'월세 vs 허위매물 outlier: {outlier_idx_1}')\n",
    "print(f'보증금 vs 허위매물 outlier: {outlier_idx_2}')"
   ]
  },
  {
   "cell_type": "code",
   "execution_count": 91,
   "id": "deada575-a924-4251-a403-9ee445c6ac0f",
   "metadata": {},
   "outputs": [
    {
     "name": "stdout",
     "output_type": "stream",
     "text": [
      "관리비 vs 허위매물 outlier: Index([], dtype='int64')\n",
      "중개사무소_freq vs 허위매물 outlier: Index([229, 590, 877, 1274, 1389, 1469, 1842, 2241], dtype='int64')\n"
     ]
    }
   ],
   "source": [
    "outlier_idx_3 = get_outlier(housing_df, '관리비')\n",
    "outlier_idx_4 = get_outlier(housing_df, '중개사무소_freq')\n",
    "print(f'관리비 vs 허위매물 outlier: {outlier_idx_3}')\n",
    "print(f'중개사무소_freq vs 허위매물 outlier: {outlier_idx_4}')"
   ]
  },
  {
   "cell_type": "code",
   "execution_count": 93,
   "id": "b6f82bd7-a1ee-4524-94eb-c4cf43e908da",
   "metadata": {},
   "outputs": [],
   "source": [
    "housing_df.drop(outlier_idx_4, axis=0, inplace=True)\n",
    "housing_df_encoded = pd.get_dummies(housing_df, drop_first=True)"
   ]
  },
  {
   "cell_type": "code",
   "execution_count": 119,
   "id": "352936b9-0c12-4c87-b451-a6d85169efee",
   "metadata": {},
   "outputs": [
    {
     "name": "stdout",
     "output_type": "stream",
     "text": [
      "LogisticRegression\n",
      "Confusion matrix:\n",
      "[[167 264]\n",
      " [  0  60]]\n",
      "Accuracy:0.4623217922606925 Precision:0.18518518518518517 Recall:1.0 F1-Score:0.3125 AUC-Score:0.6739365815931941\n",
      "\n",
      "RandomForestClassifier\n",
      "Confusion matrix:\n",
      "[[414  17]\n",
      " [ 15  45]]\n",
      "Accuracy:0.9348268839103869 Precision:0.7258064516129032 Recall:0.75 F1-Score:0.7377049180327869 AUC-Score:0.9668020108275328\n",
      "\n",
      "LGBMClassifier\n",
      "Confusion matrix:\n",
      "[[418  13]\n",
      " [  8  52]]\n",
      "Accuracy:0.9572301425661914 Precision:0.8 Recall:0.8666666666666667 F1-Score:0.832 AUC-Score:0.9719644238205722\n",
      "\n"
     ]
    }
   ],
   "source": [
    "housing_df_encoded['총주차대수'] = np.log1p(housing_df_encoded['총주차대수'])\n",
    "X = housing_df_encoded.drop('허위매물여부', axis=1)\n",
    "y = housing_df_encoded['허위매물여부']\n",
    "X_train, X_test, y_train, y_test = train_test_split(X, y, test_size=0.2, stratify=y, random_state=123)\n",
    "\n",
    "smote = SMOTE(random_state=123)\n",
    "X_train_over, y_train_over = smote.fit_resample(X_train, y_train)\n",
    "\n",
    "lr_clf = LogisticRegression(max_iter=1000)\n",
    "rf_clf = RandomForestClassifier(random_state=123)\n",
    "lgbm_clf = LGBMClassifier(n_estimators=1000, verbosity=-1)\n",
    "\n",
    "models = [lr_clf, rf_clf, lgbm_clf]\n",
    "get_model_scores(models, X_train_over, X_test, y_train_over, y_test)"
   ]
  },
  {
   "cell_type": "markdown",
   "id": "a8064431-f5c6-44f8-925c-ce56d2e04455",
   "metadata": {},
   "source": [
    "- Performance got poorer, thus I will not remove outliers.\n",
    "- I will use LGBM model which works the best, revise data processing function and move on to hyperparameter tuning"
   ]
  },
  {
   "cell_type": "code",
   "execution_count": 99,
   "id": "c42f5f07-c800-4f14-aebc-223fe831c3ed",
   "metadata": {},
   "outputs": [],
   "source": [
    "def process_housing_df(housing_df):\n",
    "    housing_df['전용면적'] = housing_df['전용면적'].fillna(housing_df['전용면적'].mean())\n",
    "    housing_df[['방수','욕실수']] = housing_df[['방수','욕실수']].fillna(1.0)\n",
    "    housing_df[['해당층','총층']] = housing_df[['해당층','총층']].fillna(np.round(housing_df[['해당층','총층']].mean()))\n",
    "    housing_df['총주차대수'] = housing_df['총주차대수'].fillna(0)\n",
    "\n",
    "    freq_map = housing_df['중개사무소'].value_counts()\n",
    "    housing_df['중개사무소_freq'] = housing_df['중개사무소'].map(freq_map)\n",
    "\n",
    "    housing_df['게재일'] = housing_df['게재일'].apply(pd.to_datetime)\n",
    "\n",
    "    housing_df['연'] = housing_df['게재일'].apply(lambda x: x.year)\n",
    "    housing_df['월'] = housing_df['게재일'].apply(lambda x: x.month)\n",
    "    housing_df['일'] = housing_df['게재일'].apply(lambda x: x.day)\n",
    "\n",
    "    housing_df['총주차대수'] = np.log1p(housing_df['총주차대수'])\n",
    "    housing_df = housing_df.drop(['ID','중개사무소','게재일'], axis=1)\n",
    "    return housing_df"
   ]
  },
  {
   "cell_type": "code",
   "execution_count": 149,
   "id": "a30908c5-abd1-4f99-b1a6-64c2b88d8254",
   "metadata": {},
   "outputs": [
    {
     "data": {
      "text/html": [
       "<div>\n",
       "<style scoped>\n",
       "    .dataframe tbody tr th:only-of-type {\n",
       "        vertical-align: middle;\n",
       "    }\n",
       "\n",
       "    .dataframe tbody tr th {\n",
       "        vertical-align: top;\n",
       "    }\n",
       "\n",
       "    .dataframe thead th {\n",
       "        text-align: right;\n",
       "    }\n",
       "</style>\n",
       "<table border=\"1\" class=\"dataframe\">\n",
       "  <thead>\n",
       "    <tr style=\"text-align: right;\">\n",
       "      <th></th>\n",
       "      <th>매물확인방식</th>\n",
       "      <th>보증금</th>\n",
       "      <th>월세</th>\n",
       "      <th>전용면적</th>\n",
       "      <th>해당층</th>\n",
       "      <th>총층</th>\n",
       "      <th>방향</th>\n",
       "      <th>방수</th>\n",
       "      <th>욕실수</th>\n",
       "      <th>주차가능여부</th>\n",
       "      <th>총주차대수</th>\n",
       "      <th>관리비</th>\n",
       "      <th>제공플랫폼</th>\n",
       "      <th>허위매물여부</th>\n",
       "      <th>중개사무소_freq</th>\n",
       "      <th>연</th>\n",
       "      <th>월</th>\n",
       "      <th>일</th>\n",
       "    </tr>\n",
       "  </thead>\n",
       "  <tbody>\n",
       "    <tr>\n",
       "      <th>0</th>\n",
       "      <td>현장확인</td>\n",
       "      <td>402500000.0</td>\n",
       "      <td>470000</td>\n",
       "      <td>27.009628</td>\n",
       "      <td>5.0</td>\n",
       "      <td>15.0</td>\n",
       "      <td>서향</td>\n",
       "      <td>1.0</td>\n",
       "      <td>1.0</td>\n",
       "      <td>가능</td>\n",
       "      <td>3.713572</td>\n",
       "      <td>96</td>\n",
       "      <td>B플랫폼</td>\n",
       "      <td>0</td>\n",
       "      <td>6</td>\n",
       "      <td>2024</td>\n",
       "      <td>10</td>\n",
       "      <td>9</td>\n",
       "    </tr>\n",
       "    <tr>\n",
       "      <th>1</th>\n",
       "      <td>현장확인</td>\n",
       "      <td>170500000.0</td>\n",
       "      <td>200000</td>\n",
       "      <td>27.009628</td>\n",
       "      <td>3.0</td>\n",
       "      <td>4.0</td>\n",
       "      <td>남동향</td>\n",
       "      <td>2.0</td>\n",
       "      <td>1.0</td>\n",
       "      <td>불가능</td>\n",
       "      <td>0.000000</td>\n",
       "      <td>0</td>\n",
       "      <td>D플랫폼</td>\n",
       "      <td>0</td>\n",
       "      <td>2</td>\n",
       "      <td>2024</td>\n",
       "      <td>12</td>\n",
       "      <td>26</td>\n",
       "    </tr>\n",
       "    <tr>\n",
       "      <th>2</th>\n",
       "      <td>전화확인</td>\n",
       "      <td>114000000.0</td>\n",
       "      <td>380000</td>\n",
       "      <td>27.009628</td>\n",
       "      <td>2.0</td>\n",
       "      <td>3.0</td>\n",
       "      <td>동향</td>\n",
       "      <td>1.0</td>\n",
       "      <td>1.0</td>\n",
       "      <td>불가능</td>\n",
       "      <td>0.000000</td>\n",
       "      <td>0</td>\n",
       "      <td>A플랫폼</td>\n",
       "      <td>0</td>\n",
       "      <td>19</td>\n",
       "      <td>2024</td>\n",
       "      <td>11</td>\n",
       "      <td>28</td>\n",
       "    </tr>\n",
       "  </tbody>\n",
       "</table>\n",
       "</div>"
      ],
      "text/plain": [
       "  매물확인방식          보증금      월세       전용면적  해당층    총층   방향   방수  욕실수 주차가능여부  \\\n",
       "0   현장확인  402500000.0  470000  27.009628  5.0  15.0   서향  1.0  1.0     가능   \n",
       "1   현장확인  170500000.0  200000  27.009628  3.0   4.0  남동향  2.0  1.0    불가능   \n",
       "2   전화확인  114000000.0  380000  27.009628  2.0   3.0   동향  1.0  1.0    불가능   \n",
       "\n",
       "      총주차대수  관리비 제공플랫폼  허위매물여부  중개사무소_freq     연   월   일  \n",
       "0  3.713572   96  B플랫폼       0           6  2024  10   9  \n",
       "1  0.000000    0  D플랫폼       0           2  2024  12  26  \n",
       "2  0.000000    0  A플랫폼       0          19  2024  11  28  "
      ]
     },
     "execution_count": 149,
     "metadata": {},
     "output_type": "execute_result"
    }
   ],
   "source": [
    "housing_df = process_housing_df(housing_df_org.copy())\n",
    "housing_df.head(3)"
   ]
  },
  {
   "cell_type": "code",
   "execution_count": 151,
   "id": "c57e214b-058a-4d3a-beb8-1c94b483865d",
   "metadata": {},
   "outputs": [],
   "source": [
    "housing_df_encoded = pd.get_dummies(housing_df, drop_first=True)"
   ]
  },
  {
   "cell_type": "code",
   "execution_count": 153,
   "id": "ad873564-01f0-4fa4-bd15-822c59acc298",
   "metadata": {},
   "outputs": [],
   "source": [
    "X = housing_df_encoded.drop('허위매물여부', axis=1)\n",
    "y = housing_df_encoded['허위매물여부']\n",
    "X_train, X_test, y_train, y_test = train_test_split(X, y, test_size=0.2, stratify=y, random_state=123)\n",
    "\n",
    "smote = SMOTE(random_state=123)\n",
    "X_train_over, y_train_over = smote.fit_resample(X_train, y_train)"
   ]
  },
  {
   "cell_type": "markdown",
   "id": "94e28054-4a9b-431a-bb15-656bc57791a8",
   "metadata": {},
   "source": [
    "### Hyperparameter Tuning (LGBM)"
   ]
  },
  {
   "cell_type": "code",
   "execution_count": 105,
   "id": "3c13947a-f853-4c4c-b46a-f491ee2390fe",
   "metadata": {},
   "outputs": [],
   "source": [
    "from lightgbm import early_stopping\n",
    "from sklearn.model_selection import KFold\n",
    "from hyperopt import hp, fmin, tpe, Trials"
   ]
  },
  {
   "cell_type": "code",
   "execution_count": 155,
   "id": "c4c0db0f-2490-4f15-b1ee-b406c1522abf",
   "metadata": {},
   "outputs": [],
   "source": [
    "lgbm_search_space = {'num_leaves':hp.quniform('num_leaves',30, 70, 1), \n",
    "                     'max_depth':hp.quniform('max_depth',1, 50, 1), \n",
    "                     'min_child_samples':hp.quniform('min_child_samples',30, 100, 1), \n",
    "                     'colsample_bytree':hp.uniform('colsample_bytree',0.1, 0.9), \n",
    "                     'learning_rate':hp.uniform('learning_rate',0.001, 0.1)}"
   ]
  },
  {
   "cell_type": "code",
   "execution_count": 157,
   "id": "ab8ce960-49c5-4261-883b-ab7db536a0f0",
   "metadata": {},
   "outputs": [],
   "source": [
    "# 목적함수 정의\n",
    "def objective_func(search_space):\n",
    "    lgbm_clf=LGBMClassifier(n_estimators=1000, \n",
    "                            num_leaves=int(search_space['num_leaves']),\n",
    "                            max_depth=int(search_space['max_depth']),\n",
    "                            min_child_samples=int(search_space['min_child_samples']),\n",
    "                            colsample_bytree=search_space['colsample_bytree'], \n",
    "                            learning_rate=search_space['learning_rate'], verbosity=-1)\n",
    "\n",
    "    recall_list=[]\n",
    "\n",
    "    kf = KFold(n_splits=3)\n",
    "    for tr_idx, val_idx in kf.split(X_train):\n",
    "        X_tr, y_tr = X_train.iloc[tr_idx], y_train.iloc[tr_idx]\n",
    "        X_val, y_val = X_train.iloc[val_idx], y_train.iloc[val_idx]\n",
    "\n",
    "        lgbm_clf.fit(X_tr, y_tr, callbacks=[early_stopping(stopping_rounds=30)], eval_metric='recall',\n",
    "                    eval_set=[(X_tr, y_tr),(X_val, y_val)])\n",
    "        y_pred = lgbm_clf.predict(X_val)\n",
    "        score = recall_score(y_val, y_pred)\n",
    "        recall_list.append(score)\n",
    "\n",
    "    return -1*np.mean(recall_list)"
   ]
  },
  {
   "cell_type": "code",
   "execution_count": 159,
   "id": "fedfae1c-ff5e-48b8-9e9d-4cdf30443195",
   "metadata": {
    "scrolled": true
   },
   "outputs": [
    {
     "name": "stdout",
     "output_type": "stream",
     "text": [
      "Training until validation scores don't improve for 30 rounds                                                           \n",
      "Early stopping, best iteration is:                                                                                     \n",
      "[84]\ttraining's binary_logloss: 0.0172106\tvalid_1's binary_logloss: 0.0991654\n",
      "Training until validation scores don't improve for 30 rounds                                                           \n",
      "Early stopping, best iteration is:                                                                                     \n",
      "[71]\ttraining's binary_logloss: 0.0257119\tvalid_1's binary_logloss: 0.094313\n",
      "Training until validation scores don't improve for 30 rounds                                                           \n",
      "Early stopping, best iteration is:                                                                                     \n",
      "[63]\ttraining's binary_logloss: 0.0226982\tvalid_1's binary_logloss: 0.123954\n",
      "Training until validation scores don't improve for 30 rounds                                                           \n",
      "Early stopping, best iteration is:                                                                                     \n",
      "[561]\ttraining's binary_logloss: 0.0248025\tvalid_1's binary_logloss: 0.0983838\n",
      "Training until validation scores don't improve for 30 rounds                                                           \n",
      "Early stopping, best iteration is:                                                                                     \n",
      "[348]\ttraining's binary_logloss: 0.0525006\tvalid_1's binary_logloss: 0.0960367\n",
      "Training until validation scores don't improve for 30 rounds                                                           \n",
      "Early stopping, best iteration is:                                                                                     \n",
      "[415]\ttraining's binary_logloss: 0.0308855\tvalid_1's binary_logloss: 0.128614\n",
      "Training until validation scores don't improve for 30 rounds                                                           \n",
      "Early stopping, best iteration is:                                                                                     \n",
      "[175]\ttraining's binary_logloss: 0.0302916\tvalid_1's binary_logloss: 0.131496\n",
      "Training until validation scores don't improve for 30 rounds                                                           \n",
      "Early stopping, best iteration is:                                                                                     \n",
      "[205]\ttraining's binary_logloss: 0.0264003\tvalid_1's binary_logloss: 0.118596\n",
      "Training until validation scores don't improve for 30 rounds                                                           \n",
      "Early stopping, best iteration is:                                                                                     \n",
      "[111]\ttraining's binary_logloss: 0.050815\tvalid_1's binary_logloss: 0.175426\n",
      "Training until validation scores don't improve for 30 rounds                                                           \n",
      "Early stopping, best iteration is:                                                                                     \n",
      "[264]\ttraining's binary_logloss: 0.0194629\tvalid_1's binary_logloss: 0.10052\n",
      "Training until validation scores don't improve for 30 rounds                                                           \n",
      "Early stopping, best iteration is:                                                                                     \n",
      "[206]\ttraining's binary_logloss: 0.0329945\tvalid_1's binary_logloss: 0.0948846\n",
      "Training until validation scores don't improve for 30 rounds                                                           \n",
      "Early stopping, best iteration is:                                                                                     \n",
      "[199]\ttraining's binary_logloss: 0.0252709\tvalid_1's binary_logloss: 0.133029\n",
      "Training until validation scores don't improve for 30 rounds                                                           \n",
      "Early stopping, best iteration is:                                                                                     \n",
      "[358]\ttraining's binary_logloss: 0.0345762\tvalid_1's binary_logloss: 0.095962\n",
      "Training until validation scores don't improve for 30 rounds                                                           \n",
      "Early stopping, best iteration is:                                                                                     \n",
      "[350]\ttraining's binary_logloss: 0.0354709\tvalid_1's binary_logloss: 0.0955832\n",
      "Training until validation scores don't improve for 30 rounds                                                           \n",
      "Early stopping, best iteration is:                                                                                     \n",
      "[303]\ttraining's binary_logloss: 0.0315824\tvalid_1's binary_logloss: 0.122597\n",
      "Training until validation scores don't improve for 30 rounds                                                           \n",
      "Early stopping, best iteration is:                                                                                     \n",
      "[455]\ttraining's binary_logloss: 0.0306095\tvalid_1's binary_logloss: 0.0967744\n",
      "Training until validation scores don't improve for 30 rounds                                                           \n",
      "Early stopping, best iteration is:                                                                                     \n",
      "[405]\ttraining's binary_logloss: 0.0375571\tvalid_1's binary_logloss: 0.0938642\n",
      "Training until validation scores don't improve for 30 rounds                                                           \n",
      "Early stopping, best iteration is:                                                                                     \n",
      "[349]\ttraining's binary_logloss: 0.0365856\tvalid_1's binary_logloss: 0.120215\n",
      "Training until validation scores don't improve for 30 rounds                                                           \n",
      "Did not meet early stopping. Best iteration is:                                                                        \n",
      "[999]\ttraining's binary_logloss: 0.103982\tvalid_1's binary_logloss: 0.113943\n",
      "Training until validation scores don't improve for 30 rounds                                                           \n",
      "Early stopping, best iteration is:                                                                                     \n",
      "[803]\ttraining's binary_logloss: 0.107059\tvalid_1's binary_logloss: 0.113791\n",
      "Training until validation scores don't improve for 30 rounds                                                           \n",
      "Early stopping, best iteration is:                                                                                     \n",
      "[822]\ttraining's binary_logloss: 0.0927867\tvalid_1's binary_logloss: 0.147441\n",
      "Training until validation scores don't improve for 30 rounds                                                           \n",
      "Early stopping, best iteration is:                                                                                     \n",
      "[224]\ttraining's binary_logloss: 0.0181909\tvalid_1's binary_logloss: 0.101628\n",
      "Training until validation scores don't improve for 30 rounds                                                           \n",
      "Early stopping, best iteration is:                                                                                     \n",
      "[129]\ttraining's binary_logloss: 0.0462269\tvalid_1's binary_logloss: 0.0974331\n",
      "Training until validation scores don't improve for 30 rounds                                                           \n",
      "Early stopping, best iteration is:                                                                                     \n",
      "[132]\ttraining's binary_logloss: 0.0337645\tvalid_1's binary_logloss: 0.125314\n",
      "Training until validation scores don't improve for 30 rounds                                                           \n",
      "Early stopping, best iteration is:                                                                                     \n",
      "[164]\ttraining's binary_logloss: 0.0316364\tvalid_1's binary_logloss: 0.0967024\n",
      "Training until validation scores don't improve for 30 rounds                                                           \n",
      "Early stopping, best iteration is:                                                                                     \n",
      "[153]\ttraining's binary_logloss: 0.0369945\tvalid_1's binary_logloss: 0.0910448\n",
      "Training until validation scores don't improve for 30 rounds                                                           \n",
      "Early stopping, best iteration is:                                                                                     \n",
      "[133]\ttraining's binary_logloss: 0.0318814\tvalid_1's binary_logloss: 0.118975\n",
      "Training until validation scores don't improve for 30 rounds                                                           \n",
      "Did not meet early stopping. Best iteration is:                                                                        \n",
      "[1000]\ttraining's binary_logloss: 0.20964\tvalid_1's binary_logloss: 0.224881\n",
      "Training until validation scores don't improve for 30 rounds                                                           \n",
      "Did not meet early stopping. Best iteration is:                                                                        \n",
      "[1000]\ttraining's binary_logloss: 0.216893\tvalid_1's binary_logloss: 0.192047\n",
      "Training until validation scores don't improve for 30 rounds                                                           \n",
      "Did not meet early stopping. Best iteration is:                                                                        \n",
      "[1000]\ttraining's binary_logloss: 0.195973\tvalid_1's binary_logloss: 0.243\n",
      "Training until validation scores don't improve for 30 rounds                                                           \n",
      "Early stopping, best iteration is:                                                                                     \n",
      "[124]\ttraining's binary_logloss: 0.0125365\tvalid_1's binary_logloss: 0.0999719\n",
      "Training until validation scores don't improve for 30 rounds                                                           \n",
      "Early stopping, best iteration is:                                                                                     \n",
      "[104]\ttraining's binary_logloss: 0.0231254\tvalid_1's binary_logloss: 0.0952355\n",
      "Training until validation scores don't improve for 30 rounds                                                           \n",
      "Early stopping, best iteration is:                                                                                     \n",
      "[88]\ttraining's binary_logloss: 0.0216215\tvalid_1's binary_logloss: 0.135765\n",
      "Training until validation scores don't improve for 30 rounds                                                           \n",
      "Early stopping, best iteration is:                                                                                     \n",
      "[256]\ttraining's binary_logloss: 0.0383927\tvalid_1's binary_logloss: 0.124881\n",
      "Training until validation scores don't improve for 30 rounds                                                           \n",
      "Early stopping, best iteration is:                                                                                     \n",
      "[372]\ttraining's binary_logloss: 0.0219934\tvalid_1's binary_logloss: 0.104141\n",
      "Training until validation scores don't improve for 30 rounds                                                           \n",
      "Early stopping, best iteration is:                                                                                     \n",
      "[260]\ttraining's binary_logloss: 0.0332257\tvalid_1's binary_logloss: 0.157999\n",
      "Training until validation scores don't improve for 30 rounds                                                           \n",
      "Early stopping, best iteration is:                                                                                     \n",
      "[264]\ttraining's binary_logloss: 0.0263874\tvalid_1's binary_logloss: 0.0992036\n",
      "Training until validation scores don't improve for 30 rounds                                                           \n",
      "Early stopping, best iteration is:                                                                                     \n",
      "[157]\ttraining's binary_logloss: 0.0584255\tvalid_1's binary_logloss: 0.100482\n",
      "Training until validation scores don't improve for 30 rounds                                                           \n",
      "Early stopping, best iteration is:                                                                                     \n",
      "[169]\ttraining's binary_logloss: 0.042907\tvalid_1's binary_logloss: 0.144226\n",
      "Training until validation scores don't improve for 30 rounds                                                           \n",
      "Did not meet early stopping. Best iteration is:                                                                        \n",
      "[1000]\ttraining's binary_logloss: 0.0843448\tvalid_1's binary_logloss: 0.128161\n",
      "Training until validation scores don't improve for 30 rounds                                                           \n",
      "Did not meet early stopping. Best iteration is:                                                                        \n",
      "[1000]\ttraining's binary_logloss: 0.085103\tvalid_1's binary_logloss: 0.117383\n",
      "Training until validation scores don't improve for 30 rounds                                                           \n",
      "Did not meet early stopping. Best iteration is:                                                                        \n",
      "[1000]\ttraining's binary_logloss: 0.070565\tvalid_1's binary_logloss: 0.15632\n",
      "Training until validation scores don't improve for 30 rounds                                                           \n",
      "Early stopping, best iteration is:                                                                                     \n",
      "[775]\ttraining's binary_logloss: 0.0311655\tvalid_1's binary_logloss: 0.101944\n",
      "Training until validation scores don't improve for 30 rounds                                                           \n",
      "Early stopping, best iteration is:                                                                                     \n",
      "[706]\ttraining's binary_logloss: 0.0368286\tvalid_1's binary_logloss: 0.094314\n",
      "Training until validation scores don't improve for 30 rounds                                                           \n",
      "Early stopping, best iteration is:                                                                                     \n",
      "[691]\ttraining's binary_logloss: 0.0296572\tvalid_1's binary_logloss: 0.124434\n",
      "Training until validation scores don't improve for 30 rounds                                                           \n",
      "Early stopping, best iteration is:                                                                                     \n",
      "[549]\ttraining's binary_logloss: 0.0811911\tvalid_1's binary_logloss: 0.139937\n",
      "Training until validation scores don't improve for 30 rounds                                                           \n",
      "Early stopping, best iteration is:                                                                                     \n",
      "[820]\ttraining's binary_logloss: 0.0587267\tvalid_1's binary_logloss: 0.115554\n",
      "Training until validation scores don't improve for 30 rounds                                                           \n",
      "Early stopping, best iteration is:                                                                                     \n",
      "[811]\ttraining's binary_logloss: 0.0734744\tvalid_1's binary_logloss: 0.183493\n",
      "Training until validation scores don't improve for 30 rounds                                                           \n",
      "Early stopping, best iteration is:                                                                                     \n",
      "[501]\ttraining's binary_logloss: 0.0223771\tvalid_1's binary_logloss: 0.103903\n",
      "Training until validation scores don't improve for 30 rounds                                                           \n",
      "Early stopping, best iteration is:                                                                                     \n",
      "[479]\ttraining's binary_logloss: 0.0269316\tvalid_1's binary_logloss: 0.0934346\n",
      "Training until validation scores don't improve for 30 rounds                                                           \n",
      "Early stopping, best iteration is:                                                                                     \n",
      "[485]\ttraining's binary_logloss: 0.019084\tvalid_1's binary_logloss: 0.131802\n",
      "Training until validation scores don't improve for 30 rounds                                                           \n",
      "Early stopping, best iteration is:                                                                                     \n",
      "[114]\ttraining's binary_logloss: 0.0274454\tvalid_1's binary_logloss: 0.102592\n",
      "Training until validation scores don't improve for 30 rounds                                                           \n",
      "Early stopping, best iteration is:                                                                                     \n",
      "[127]\ttraining's binary_logloss: 0.0235985\tvalid_1's binary_logloss: 0.0926911\n",
      "Training until validation scores don't improve for 30 rounds                                                           \n",
      "Early stopping, best iteration is:                                                                                     \n",
      "[125]\ttraining's binary_logloss: 0.0170055\tvalid_1's binary_logloss: 0.133844\n",
      "Training until validation scores don't improve for 30 rounds                                                           \n",
      "Early stopping, best iteration is:                                                                                     \n",
      "[546]\ttraining's binary_logloss: 0.0352629\tvalid_1's binary_logloss: 0.0960334\n",
      "Training until validation scores don't improve for 30 rounds                                                           \n",
      "Early stopping, best iteration is:                                                                                     \n",
      "[319]\ttraining's binary_logloss: 0.0647186\tvalid_1's binary_logloss: 0.099333\n",
      "Training until validation scores don't improve for 30 rounds                                                           \n",
      "Early stopping, best iteration is:                                                                                     \n",
      "[290]\ttraining's binary_logloss: 0.0585479\tvalid_1's binary_logloss: 0.1368\n",
      "Training until validation scores don't improve for 30 rounds                                                           \n",
      "Early stopping, best iteration is:                                                                                     \n",
      "[274]\ttraining's binary_logloss: 0.0138343\tvalid_1's binary_logloss: 0.0973785\n",
      "Training until validation scores don't improve for 30 rounds                                                           \n",
      "Early stopping, best iteration is:                                                                                     \n",
      "[184]\ttraining's binary_logloss: 0.0343337\tvalid_1's binary_logloss: 0.099041\n",
      "Training until validation scores don't improve for 30 rounds                                                           \n",
      "Early stopping, best iteration is:                                                                                     \n",
      "[222]\ttraining's binary_logloss: 0.0176908\tvalid_1's binary_logloss: 0.142614\n",
      "Training until validation scores don't improve for 30 rounds                                                           \n",
      "Early stopping, best iteration is:                                                                                     \n",
      "[369]\ttraining's binary_logloss: 0.0171089\tvalid_1's binary_logloss: 0.0957599\n",
      "Training until validation scores don't improve for 30 rounds                                                           \n",
      "Early stopping, best iteration is:                                                                                     \n",
      "[210]\ttraining's binary_logloss: 0.0458896\tvalid_1's binary_logloss: 0.0929172\n",
      "Training until validation scores don't improve for 30 rounds                                                           \n",
      "Early stopping, best iteration is:                                                                                     \n",
      "[223]\ttraining's binary_logloss: 0.0313307\tvalid_1's binary_logloss: 0.127464\n",
      "Training until validation scores don't improve for 30 rounds                                                           \n",
      "Early stopping, best iteration is:                                                                                     \n",
      "[795]\ttraining's binary_logloss: 0.0660764\tvalid_1's binary_logloss: 0.103997\n",
      "Training until validation scores don't improve for 30 rounds                                                           \n",
      "Early stopping, best iteration is:                                                                                     \n",
      "[500]\ttraining's binary_logloss: 0.0840468\tvalid_1's binary_logloss: 0.101973\n",
      "Training until validation scores don't improve for 30 rounds                                                           \n",
      "Early stopping, best iteration is:                                                                                     \n",
      "[563]\ttraining's binary_logloss: 0.06519\tvalid_1's binary_logloss: 0.131277\n",
      "Training until validation scores don't improve for 30 rounds                                                           \n",
      "Early stopping, best iteration is:                                                                                     \n",
      "[293]\ttraining's binary_logloss: 0.0239549\tvalid_1's binary_logloss: 0.0947168\n",
      "Training until validation scores don't improve for 30 rounds                                                           \n",
      "Early stopping, best iteration is:                                                                                     \n",
      "[189]\ttraining's binary_logloss: 0.0457263\tvalid_1's binary_logloss: 0.0922566\n",
      "Training until validation scores don't improve for 30 rounds                                                           \n",
      "Early stopping, best iteration is:                                                                                     \n",
      "[215]\ttraining's binary_logloss: 0.0291012\tvalid_1's binary_logloss: 0.128622\n",
      "Training until validation scores don't improve for 30 rounds                                                           \n",
      "Early stopping, best iteration is:                                                                                     \n",
      "[165]\ttraining's binary_logloss: 0.0303985\tvalid_1's binary_logloss: 0.099362\n",
      "Training until validation scores don't improve for 30 rounds                                                           \n",
      "Early stopping, best iteration is:                                                                                     \n",
      "[97]\ttraining's binary_logloss: 0.0617024\tvalid_1's binary_logloss: 0.0945893\n",
      "Training until validation scores don't improve for 30 rounds                                                           \n",
      "Early stopping, best iteration is:                                                                                     \n",
      "[120]\ttraining's binary_logloss: 0.0385478\tvalid_1's binary_logloss: 0.126107\n",
      "Training until validation scores don't improve for 30 rounds                                                           \n",
      "Early stopping, best iteration is:                                                                                     \n",
      "[302]\ttraining's binary_logloss: 0.0141604\tvalid_1's binary_logloss: 0.108091\n",
      "Training until validation scores don't improve for 30 rounds                                                           \n",
      "Early stopping, best iteration is:                                                                                     \n",
      "[264]\ttraining's binary_logloss: 0.0221781\tvalid_1's binary_logloss: 0.100734\n",
      "Training until validation scores don't improve for 30 rounds                                                           \n",
      "Early stopping, best iteration is:                                                                                     \n",
      "[229]\ttraining's binary_logloss: 0.0223896\tvalid_1's binary_logloss: 0.143039\n",
      "Training until validation scores don't improve for 30 rounds                                                           \n",
      "Early stopping, best iteration is:                                                                                     \n",
      "[453]\ttraining's binary_logloss: 0.0150879\tvalid_1's binary_logloss: 0.0939288\n",
      "Training until validation scores don't improve for 30 rounds                                                           \n",
      "Early stopping, best iteration is:                                                                                     \n",
      "[287]\ttraining's binary_logloss: 0.0373177\tvalid_1's binary_logloss: 0.0908988\n",
      "Training until validation scores don't improve for 30 rounds                                                           \n",
      "Early stopping, best iteration is:                                                                                     \n",
      "[187]\ttraining's binary_logloss: 0.0474425\tvalid_1's binary_logloss: 0.122943\n",
      "Training until validation scores don't improve for 30 rounds                                                           \n",
      "Early stopping, best iteration is:                                                                                     \n",
      "[288]\ttraining's binary_logloss: 0.0256751\tvalid_1's binary_logloss: 0.0998646\n",
      "Training until validation scores don't improve for 30 rounds                                                           \n",
      "Early stopping, best iteration is:                                                                                     \n",
      "[205]\ttraining's binary_logloss: 0.0435176\tvalid_1's binary_logloss: 0.0964099\n",
      "Training until validation scores don't improve for 30 rounds                                                           \n",
      "Early stopping, best iteration is:                                                                                     \n",
      "[182]\ttraining's binary_logloss: 0.0389092\tvalid_1's binary_logloss: 0.127514\n",
      "Training until validation scores don't improve for 30 rounds                                                           \n",
      "Early stopping, best iteration is:                                                                                     \n",
      "[218]\ttraining's binary_logloss: 0.0362274\tvalid_1's binary_logloss: 0.0987388\n",
      "Training until validation scores don't improve for 30 rounds                                                           \n",
      "Early stopping, best iteration is:                                                                                     \n",
      "[138]\ttraining's binary_logloss: 0.0604172\tvalid_1's binary_logloss: 0.102434\n",
      "Training until validation scores don't improve for 30 rounds                                                           \n",
      "Early stopping, best iteration is:                                                                                     \n",
      "[121]\ttraining's binary_logloss: 0.0550054\tvalid_1's binary_logloss: 0.140897\n",
      "Training until validation scores don't improve for 30 rounds                                                           \n",
      "Early stopping, best iteration is:                                                                                     \n",
      "[117]\ttraining's binary_logloss: 0.0255858\tvalid_1's binary_logloss: 0.0979717\n",
      "Training until validation scores don't improve for 30 rounds                                                           \n",
      "Early stopping, best iteration is:                                                                                     \n",
      "[85]\ttraining's binary_logloss: 0.0421555\tvalid_1's binary_logloss: 0.0920804\n",
      "Training until validation scores don't improve for 30 rounds                                                           \n",
      "Early stopping, best iteration is:                                                                                     \n",
      "[105]\ttraining's binary_logloss: 0.0220939\tvalid_1's binary_logloss: 0.119397\n",
      "Training until validation scores don't improve for 30 rounds                                                           \n",
      "Early stopping, best iteration is:                                                                                     \n",
      "[348]\ttraining's binary_logloss: 0.0249395\tvalid_1's binary_logloss: 0.0964775\n",
      "Training until validation scores don't improve for 30 rounds                                                           \n",
      "Early stopping, best iteration is:                                                                                     \n",
      "[231]\ttraining's binary_logloss: 0.0490263\tvalid_1's binary_logloss: 0.0922408\n",
      "Training until validation scores don't improve for 30 rounds                                                           \n",
      "Early stopping, best iteration is:                                                                                     \n",
      "[237]\ttraining's binary_logloss: 0.0344447\tvalid_1's binary_logloss: 0.120644\n",
      "Training until validation scores don't improve for 30 rounds                                                           \n",
      "Early stopping, best iteration is:                                                                                     \n",
      "[219]\ttraining's binary_logloss: 0.0210998\tvalid_1's binary_logloss: 0.0925887\n",
      "Training until validation scores don't improve for 30 rounds                                                           \n",
      "Early stopping, best iteration is:                                                                                     \n",
      "[143]\ttraining's binary_logloss: 0.0444258\tvalid_1's binary_logloss: 0.0930829\n",
      "Training until validation scores don't improve for 30 rounds                                                           \n",
      "Early stopping, best iteration is:                                                                                     \n",
      "[140]\ttraining's binary_logloss: 0.032909\tvalid_1's binary_logloss: 0.123078\n",
      "Training until validation scores don't improve for 30 rounds                                                           \n",
      "Early stopping, best iteration is:                                                                                     \n",
      "[322]\ttraining's binary_logloss: 0.025425\tvalid_1's binary_logloss: 0.0961626\n",
      "Training until validation scores don't improve for 30 rounds                                                           \n",
      "Early stopping, best iteration is:                                                                                     \n",
      "[210]\ttraining's binary_logloss: 0.0495483\tvalid_1's binary_logloss: 0.0967509\n",
      "Training until validation scores don't improve for 30 rounds                                                           \n",
      "Early stopping, best iteration is:                                                                                     \n",
      "[225]\ttraining's binary_logloss: 0.034468\tvalid_1's binary_logloss: 0.132921\n",
      "Training until validation scores don't improve for 30 rounds                                                           \n",
      "Early stopping, best iteration is:                                                                                     \n",
      "[251]\ttraining's binary_logloss: 0.0222607\tvalid_1's binary_logloss: 0.0989039\n",
      "Training until validation scores don't improve for 30 rounds                                                           \n",
      "Early stopping, best iteration is:                                                                                     \n",
      "[149]\ttraining's binary_logloss: 0.0529253\tvalid_1's binary_logloss: 0.0964551\n",
      "Training until validation scores don't improve for 30 rounds                                                           \n",
      "Early stopping, best iteration is:                                                                                     \n",
      "[121]\ttraining's binary_logloss: 0.0531327\tvalid_1's binary_logloss: 0.131966\n",
      "Training until validation scores don't improve for 30 rounds                                                           \n",
      "Early stopping, best iteration is:                                                                                     \n",
      "[184]\ttraining's binary_logloss: 0.0164084\tvalid_1's binary_logloss: 0.103716\n",
      "Training until validation scores don't improve for 30 rounds                                                           \n",
      "Early stopping, best iteration is:                                                                                     \n",
      "[149]\ttraining's binary_logloss: 0.0289728\tvalid_1's binary_logloss: 0.0984231\n",
      "Training until validation scores don't improve for 30 rounds                                                           \n",
      "Early stopping, best iteration is:                                                                                     \n",
      "[130]\ttraining's binary_logloss: 0.0268021\tvalid_1's binary_logloss: 0.140899\n",
      "Training until validation scores don't improve for 30 rounds                                                           \n",
      "Early stopping, best iteration is:                                                                                     \n",
      "[277]\ttraining's binary_logloss: 0.0177491\tvalid_1's binary_logloss: 0.100524\n",
      "Training until validation scores don't improve for 30 rounds                                                           \n",
      "Early stopping, best iteration is:                                                                                     \n",
      "[179]\ttraining's binary_logloss: 0.0408507\tvalid_1's binary_logloss: 0.098834\n",
      "Training until validation scores don't improve for 30 rounds                                                           \n",
      "Early stopping, best iteration is:                                                                                     \n",
      "[152]\ttraining's binary_logloss: 0.0412039\tvalid_1's binary_logloss: 0.133732\n",
      "Training until validation scores don't improve for 30 rounds                                                           \n",
      "Early stopping, best iteration is:                                                                                     \n",
      "[119]\ttraining's binary_logloss: 0.0266744\tvalid_1's binary_logloss: 0.0972896\n",
      "Training until validation scores don't improve for 30 rounds                                                           \n",
      "Early stopping, best iteration is:                                                                                     \n",
      "[83]\ttraining's binary_logloss: 0.0480397\tvalid_1's binary_logloss: 0.0957564\n",
      "Training until validation scores don't improve for 30 rounds                                                           \n",
      "Early stopping, best iteration is:                                                                                     \n",
      "[109]\ttraining's binary_logloss: 0.0239546\tvalid_1's binary_logloss: 0.125837\n",
      "Training until validation scores don't improve for 30 rounds                                                           \n",
      "Early stopping, best iteration is:                                                                                     \n",
      "[507]\ttraining's binary_logloss: 0.0265719\tvalid_1's binary_logloss: 0.0984508\n",
      "Training until validation scores don't improve for 30 rounds                                                           \n",
      "Early stopping, best iteration is:                                                                                     \n",
      "[300]\ttraining's binary_logloss: 0.0570411\tvalid_1's binary_logloss: 0.0961741\n",
      "Training until validation scores don't improve for 30 rounds                                                           \n",
      "Early stopping, best iteration is:                                                                                     \n",
      "[288]\ttraining's binary_logloss: 0.047973\tvalid_1's binary_logloss: 0.130313\n",
      "Training until validation scores don't improve for 30 rounds                                                           \n",
      "Early stopping, best iteration is:                                                                                     \n",
      "[518]\ttraining's binary_logloss: 0.0333661\tvalid_1's binary_logloss: 0.0967137\n",
      "Training until validation scores don't improve for 30 rounds                                                           \n",
      "Early stopping, best iteration is:                                                                                     \n",
      "[361]\ttraining's binary_logloss: 0.0487561\tvalid_1's binary_logloss: 0.100243\n",
      "Training until validation scores don't improve for 30 rounds                                                           \n",
      "Early stopping, best iteration is:                                                                                     \n",
      "[256]\ttraining's binary_logloss: 0.0575238\tvalid_1's binary_logloss: 0.142526\n",
      "Training until validation scores don't improve for 30 rounds                                                           \n",
      "Early stopping, best iteration is:                                                                                     \n",
      "[495]\ttraining's binary_logloss: 0.0276513\tvalid_1's binary_logloss: 0.0941616\n",
      "Training until validation scores don't improve for 30 rounds                                                           \n",
      "Early stopping, best iteration is:                                                                                     \n",
      "[416]\ttraining's binary_logloss: 0.0385323\tvalid_1's binary_logloss: 0.0897628\n",
      "Training until validation scores don't improve for 30 rounds                                                           \n",
      "Early stopping, best iteration is:                                                                                     \n",
      "[381]\ttraining's binary_logloss: 0.0301041\tvalid_1's binary_logloss: 0.120467\n",
      "Training until validation scores don't improve for 30 rounds                                                           \n",
      "Did not meet early stopping. Best iteration is:                                                                        \n",
      "[1000]\ttraining's binary_logloss: 0.0938414\tvalid_1's binary_logloss: 0.118014\n",
      "Training until validation scores don't improve for 30 rounds                                                           \n",
      "Did not meet early stopping. Best iteration is:                                                                        \n",
      "[1000]\ttraining's binary_logloss: 0.0980835\tvalid_1's binary_logloss: 0.113591\n",
      "Training until validation scores don't improve for 30 rounds                                                           \n",
      "Did not meet early stopping. Best iteration is:                                                                        \n",
      "[1000]\ttraining's binary_logloss: 0.082056\tvalid_1's binary_logloss: 0.140644\n",
      "Training until validation scores don't improve for 30 rounds                                                           \n",
      "Early stopping, best iteration is:                                                                                     \n",
      "[536]\ttraining's binary_logloss: 0.0265933\tvalid_1's binary_logloss: 0.105704\n",
      "Training until validation scores don't improve for 30 rounds                                                           \n",
      "Early stopping, best iteration is:                                                                                     \n",
      "[519]\ttraining's binary_logloss: 0.0311913\tvalid_1's binary_logloss: 0.0994357\n",
      "Training until validation scores don't improve for 30 rounds                                                           \n",
      "Early stopping, best iteration is:                                                                                     \n",
      "[423]\ttraining's binary_logloss: 0.0316447\tvalid_1's binary_logloss: 0.136878\n",
      "Training until validation scores don't improve for 30 rounds                                                           \n",
      "Early stopping, best iteration is:                                                                                     \n",
      "[102]\ttraining's binary_logloss: 0.0305681\tvalid_1's binary_logloss: 0.0968036\n",
      "Training until validation scores don't improve for 30 rounds                                                           \n",
      "Early stopping, best iteration is:                                                                                     \n",
      "[82]\ttraining's binary_logloss: 0.0432089\tvalid_1's binary_logloss: 0.0922084\n",
      "Training until validation scores don't improve for 30 rounds                                                           \n",
      "Early stopping, best iteration is:                                                                                     \n",
      "[60]\ttraining's binary_logloss: 0.0507907\tvalid_1's binary_logloss: 0.124029\n",
      "Training until validation scores don't improve for 30 rounds                                                           \n",
      "Early stopping, best iteration is:                                                                                     \n",
      "[487]\ttraining's binary_logloss: 0.0392457\tvalid_1's binary_logloss: 0.100449\n",
      "Training until validation scores don't improve for 30 rounds                                                           \n",
      "Early stopping, best iteration is:                                                                                     \n",
      "[483]\ttraining's binary_logloss: 0.0418101\tvalid_1's binary_logloss: 0.0948273\n",
      "Training until validation scores don't improve for 30 rounds                                                           \n",
      "Early stopping, best iteration is:                                                                                     \n",
      "[419]\ttraining's binary_logloss: 0.0394684\tvalid_1's binary_logloss: 0.131847\n",
      "Training until validation scores don't improve for 30 rounds                                                           \n",
      "Early stopping, best iteration is:                                                                                     \n",
      "[398]\ttraining's binary_logloss: 0.021583\tvalid_1's binary_logloss: 0.111864\n",
      "Training until validation scores don't improve for 30 rounds                                                           \n",
      "Early stopping, best iteration is:                                                                                     \n",
      "[390]\ttraining's binary_logloss: 0.0256337\tvalid_1's binary_logloss: 0.103647\n",
      "Training until validation scores don't improve for 30 rounds                                                           \n",
      "Early stopping, best iteration is:                                                                                     \n",
      "[257]\ttraining's binary_logloss: 0.0425733\tvalid_1's binary_logloss: 0.151848\n",
      "Training until validation scores don't improve for 30 rounds                                                           \n",
      "Did not meet early stopping. Best iteration is:                                                                        \n",
      "[1000]\ttraining's binary_logloss: 0.103761\tvalid_1's binary_logloss: 0.145178\n",
      "Training until validation scores don't improve for 30 rounds                                                           \n",
      "Did not meet early stopping. Best iteration is:                                                                        \n",
      "[1000]\ttraining's binary_logloss: 0.11078\tvalid_1's binary_logloss: 0.133901\n",
      "Training until validation scores don't improve for 30 rounds                                                           \n",
      "Did not meet early stopping. Best iteration is:                                                                        \n",
      "[1000]\ttraining's binary_logloss: 0.0931801\tvalid_1's binary_logloss: 0.169965\n",
      "Training until validation scores don't improve for 30 rounds                                                           \n",
      "Early stopping, best iteration is:                                                                                     \n",
      "[404]\ttraining's binary_logloss: 0.0154359\tvalid_1's binary_logloss: 0.100144\n",
      "Training until validation scores don't improve for 30 rounds                                                           \n",
      "Early stopping, best iteration is:                                                                                     \n",
      "[326]\ttraining's binary_logloss: 0.0265104\tvalid_1's binary_logloss: 0.0969347\n",
      "Training until validation scores don't improve for 30 rounds                                                           \n",
      "Early stopping, best iteration is:                                                                                     \n",
      "[219]\ttraining's binary_logloss: 0.0391283\tvalid_1's binary_logloss: 0.136916\n",
      "Training until validation scores don't improve for 30 rounds                                                           \n",
      "Early stopping, best iteration is:                                                                                     \n",
      "[548]\ttraining's binary_logloss: 0.0378499\tvalid_1's binary_logloss: 0.130115\n",
      "Training until validation scores don't improve for 30 rounds                                                           \n",
      "Early stopping, best iteration is:                                                                                     \n",
      "[403]\ttraining's binary_logloss: 0.0622634\tvalid_1's binary_logloss: 0.128436\n",
      "Training until validation scores don't improve for 30 rounds                                                           \n",
      "Early stopping, best iteration is:                                                                                     \n",
      "[421]\ttraining's binary_logloss: 0.0457778\tvalid_1's binary_logloss: 0.167587\n",
      "Training until validation scores don't improve for 30 rounds                                                           \n",
      "Early stopping, best iteration is:                                                                                     \n",
      "[269]\ttraining's binary_logloss: 0.0246042\tvalid_1's binary_logloss: 0.100773\n",
      "Training until validation scores don't improve for 30 rounds                                                           \n",
      "Early stopping, best iteration is:                                                                                     \n",
      "[232]\ttraining's binary_logloss: 0.0336147\tvalid_1's binary_logloss: 0.0957021\n",
      "Training until validation scores don't improve for 30 rounds                                                           \n",
      "Early stopping, best iteration is:                                                                                     \n",
      "[183]\ttraining's binary_logloss: 0.0373895\tvalid_1's binary_logloss: 0.134173\n",
      "Training until validation scores don't improve for 30 rounds                                                           \n",
      "Early stopping, best iteration is:                                                                                     \n",
      "[248]\ttraining's binary_logloss: 0.0160329\tvalid_1's binary_logloss: 0.0924165\n",
      "Training until validation scores don't improve for 30 rounds                                                           \n",
      "Early stopping, best iteration is:                                                                                     \n",
      "[138]\ttraining's binary_logloss: 0.0466048\tvalid_1's binary_logloss: 0.0962017\n",
      "Training until validation scores don't improve for 30 rounds                                                           \n",
      "Early stopping, best iteration is:                                                                                     \n",
      "[116]\ttraining's binary_logloss: 0.0441182\tvalid_1's binary_logloss: 0.128238\n",
      "Training until validation scores don't improve for 30 rounds                                                           \n",
      "Early stopping, best iteration is:                                                                                     \n",
      "[823]\ttraining's binary_logloss: 0.0154817\tvalid_1's binary_logloss: 0.116316\n",
      "Training until validation scores don't improve for 30 rounds                                                           \n",
      "Early stopping, best iteration is:                                                                                     \n",
      "[736]\ttraining's binary_logloss: 0.022503\tvalid_1's binary_logloss: 0.102253\n",
      "Training until validation scores don't improve for 30 rounds                                                           \n",
      "Early stopping, best iteration is:                                                                                     \n",
      "[608]\ttraining's binary_logloss: 0.0305301\tvalid_1's binary_logloss: 0.182065\n",
      "100%|███████████████████████████████████████████████| 50/50 [00:25<00:00,  1.96trial/s, best loss: -0.8187878342278755]\n",
      "{'colsample_bytree': 0.840146848955267, 'learning_rate': 0.020530495281113254, 'max_depth': 44.0, 'min_child_samples': 68.0, 'num_leaves': 46.0}\n"
     ]
    }
   ],
   "source": [
    "trials =Trials()\n",
    "\n",
    "best = fmin(fn=objective_func, space=lgbm_search_space, algo=tpe.suggest, max_evals=50)\n",
    "print(best)"
   ]
  },
  {
   "cell_type": "code",
   "execution_count": 161,
   "id": "26fd68cc-79f4-4b01-9a17-431fe2476cef",
   "metadata": {},
   "outputs": [
    {
     "name": "stdout",
     "output_type": "stream",
     "text": [
      "Scores with data without SMOTE\n",
      "Confusion matrix:\n",
      "[[421  10]\n",
      " [  9  51]]\n",
      "Accuracy:0.9613034623217923 Precision:0.8360655737704918 Recall:0.85 F1-Score:0.8429752066115702 AUC-Score:0.9773781902552203\n",
      "\n",
      "Scores with data with SMOTE\n",
      "Confusion matrix:\n",
      "[[414  17]\n",
      " [  8  52]]\n",
      "Accuracy:0.9490835030549898 Precision:0.7536231884057971 Recall:0.8666666666666667 F1-Score:0.8062015503875969 AUC-Score:0.9683294663573085\n",
      "\n"
     ]
    }
   ],
   "source": [
    "lgbm_clf = LGBMClassifier(n_estimators=1000, \n",
    "                          num_leaves=int(best['num_leaves']),\n",
    "                          learning_rate=best['learning_rate'], \n",
    "                          max_depth=int(best['max_depth']), \n",
    "                          min_child_samples=int(best['min_child_samples']), \n",
    "                          colsample_bytree=best['colsample_bytree'],\n",
    "                          verbosity=-1)\n",
    "\n",
    "print('Scores with data without SMOTE')\n",
    "get_scores(model=lgbm_clf, X_train=X_train, X_test=X_test, y_train=y_train, y_test=y_test)\n",
    "print('Scores with data with SMOTE')\n",
    "get_scores(model=lgbm_clf, X_train=X_train_over, X_test=X_test, y_train=y_train_over, y_test=y_test)"
   ]
  },
  {
   "cell_type": "markdown",
   "id": "125268fd-fc32-4b4b-85ae-7570cf508a83",
   "metadata": {},
   "source": [
    "- Even though Recall rate of model with SMOTE is higher, but have to consider the gap of F1-Score according to the case"
   ]
  },
  {
   "cell_type": "code",
   "execution_count": null,
   "id": "9683f98b-8cb5-46bc-ac66-a95655c635c2",
   "metadata": {},
   "outputs": [],
   "source": []
  }
 ],
 "metadata": {
  "kernelspec": {
   "display_name": "Python [conda env:base] *",
   "language": "python",
   "name": "conda-base-py"
  },
  "language_info": {
   "codemirror_mode": {
    "name": "ipython",
    "version": 3
   },
   "file_extension": ".py",
   "mimetype": "text/x-python",
   "name": "python",
   "nbconvert_exporter": "python",
   "pygments_lexer": "ipython3",
   "version": "3.11.5"
  }
 },
 "nbformat": 4,
 "nbformat_minor": 5
}
